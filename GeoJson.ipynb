{
 "cells": [
  {
   "cell_type": "markdown",
   "metadata": {},
   "source": [
    "## Header \n",
    "Author : Amina Matt and Yichen Wang  \n",
    "Date created : 20.12.2021  \n",
    "Date last modified : 20.12.2021  \n",
    "Python version : 3.8  \n",
    "Description : Text processing of the CARICOM Compilation Archive (CCA) https://louverture.ch/cca/ "
   ]
  },
  {
   "cell_type": "markdown",
   "metadata": {},
   "source": [
    "### Librairies"
   ]
  },
  {
   "cell_type": "code",
   "execution_count": 163,
   "metadata": {},
   "outputs": [],
   "source": [
    "# -*- coding: utf-8 -*-\n",
    "import pandas as pd\n",
    "import json\n",
    "import math #for isnan\n",
    "from pandas.io.json import json_normalize"
   ]
  },
  {
   "cell_type": "markdown",
   "metadata": {},
   "source": [
    "### Initialization "
   ]
  },
  {
   "cell_type": "code",
   "execution_count": 164,
   "metadata": {},
   "outputs": [],
   "source": [
    "#PATHS\n",
    "DATA_FOLDER = './data/'\n",
    "caricom_sample = DATA_FOLDER +'Caricom_Archive_Sample_Schema1.txt'\n",
    "caricom = DATA_FOLDER +'Caricom_Archive.txt'"
   ]
  },
  {
   "cell_type": "markdown",
   "metadata": {},
   "source": [
    "### Load "
   ]
  },
  {
   "cell_type": "code",
   "execution_count": 165,
   "metadata": {},
   "outputs": [],
   "source": [
    "df = pd.read_pickle(\"./caricom_with_geoid.pkl\")\n",
    "#df.iloc[60:80]"
   ]
  },
  {
   "cell_type": "markdown",
   "metadata": {},
   "source": [
    "### GEOJson structure"
   ]
  },
  {
   "cell_type": "code",
   "execution_count": 166,
   "metadata": {},
   "outputs": [],
   "source": []
  },
  {
   "cell_type": "markdown",
   "metadata": {},
   "source": [
    "### Functions"
   ]
  },
  {
   "cell_type": "code",
   "execution_count": 167,
   "metadata": {},
   "outputs": [],
   "source": [
    "def add_coordinates(col_lat,col_lon,or_lat,or_lon):\n",
    "    '''\n",
    "    Describe: function that create a geojson with data from dataframe\n",
    "    '''\n",
    "    geojson_structure['geometry']['coordinates'] =  [[col_lat, col_lon], [or_lat, or_lon]]\n",
    "    return geojson_structure"
   ]
  },
  {
   "cell_type": "code",
   "execution_count": 168,
   "metadata": {},
   "outputs": [],
   "source": [
    "def add_person(person_name):\n",
    "    '''\n",
    "    Describe: function that create a geojson with data from dataframe\n",
    "    '''\n",
    "    geojson_structure['properties']['person'] =  person_name\n",
    "    return geojson_structure"
   ]
  },
  {
   "cell_type": "markdown",
   "metadata": {},
   "source": [
    "### Dataframe processing"
   ]
  },
  {
   "cell_type": "code",
   "execution_count": 172,
   "metadata": {},
   "outputs": [],
   "source": [
    "# Create a list in which new geojson are added for each dataframe entry\n",
    "\n",
    "# empty list\n",
    "geojson_with_coo_list = []\n",
    "\n",
    "# loop on dataframe\n",
    "for i in range(len(df)):\n",
    "    entry = df.iloc[i]\n",
    "    \n",
    "    #define structure \n",
    "    geojson_structure ={\"type\": \"Feature\",\n",
    "     \"properties\": {\n",
    "         \"person\": ''\n",
    "     },\n",
    "     \"geometry\":\n",
    "         { \"type\": \"LineString\", \n",
    "          \"coordinates\": []\n",
    "         }\n",
    "    }\n",
    "    # get entry values\n",
    "    or_lat = entry['origin_latitude']\n",
    "    or_lon = entry['origin_longitude']\n",
    "    col_lat = entry['col_latitude']\n",
    "    col_lon = entry['col_longitude']\n",
    "    person_name = entry['person']\n",
    "    \n",
    "    # no lines if NaN values\n",
    "    if math.isnan(or_lat) or  math.isnan(or_lon) or  math.isnan(col_lat) or  math.isnan(col_lon) :\n",
    "        continue\n",
    "    else :   \n",
    "        # create geojson with coordinates\n",
    "        geojson_with_coo = add_coordinates(or_lon,or_lat,col_lon,col_lat)\n",
    "        geojson_with_coo = add_person(person_name)\n",
    "\n",
    "        # add to list\n",
    "        geojson_with_coo_list.append(geojson_with_coo)"
   ]
  },
  {
   "cell_type": "code",
   "execution_count": 173,
   "metadata": {},
   "outputs": [],
   "source": [
    "#geojson_with_coo_list"
   ]
  },
  {
   "cell_type": "markdown",
   "metadata": {},
   "source": [
    "### JSON for the collection"
   ]
  },
  {
   "cell_type": "code",
   "execution_count": 175,
   "metadata": {},
   "outputs": [],
   "source": [
    "overall_json = {\"type\": \"FeatureCollection\",\"features\": []}\n",
    "overall_json['features']= geojson_with_coo_list\n",
    "#overall_json"
   ]
  },
  {
   "cell_type": "markdown",
   "metadata": {},
   "source": [
    "### Dump GeoJSON"
   ]
  },
  {
   "cell_type": "code",
   "execution_count": 176,
   "metadata": {},
   "outputs": [],
   "source": [
    "a_file = open(\"lines.json\", \"w\")\n",
    "a_file = json.dump(overall_json, a_file) "
   ]
  },
  {
   "cell_type": "code",
   "execution_count": null,
   "metadata": {},
   "outputs": [],
   "source": []
  }
 ],
 "metadata": {
  "kernelspec": {
   "display_name": "Python 3",
   "language": "python",
   "name": "python3"
  },
  "language_info": {
   "codemirror_mode": {
    "name": "ipython",
    "version": 3
   },
   "file_extension": ".py",
   "mimetype": "text/x-python",
   "name": "python",
   "nbconvert_exporter": "python",
   "pygments_lexer": "ipython3",
   "version": "3.8.5"
  }
 },
 "nbformat": 4,
 "nbformat_minor": 4
}
