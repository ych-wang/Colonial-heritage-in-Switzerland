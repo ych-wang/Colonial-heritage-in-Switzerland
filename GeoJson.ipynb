{
 "cells": [
  {
   "cell_type": "markdown",
   "metadata": {},
   "source": [
    "## Header \n",
    "Author : Amina Matt and Yichen Wang  \n",
    "Date created : 20.12.2021  \n",
    "Date last modified : 20.12.2021  \n",
    "Python version : 3.8  \n",
    "Description : Text processing of the CARICOM Compilation Archive (CCA) https://louverture.ch/cca/ "
   ]
  },
  {
   "cell_type": "markdown",
   "metadata": {},
   "source": [
    "### Librairies"
   ]
  },
  {
   "cell_type": "code",
   "execution_count": 3,
   "metadata": {},
   "outputs": [],
   "source": [
    "# -*- coding: utf-8 -*-\n",
    "import pandas as pd\n",
    "import json\n",
    "import math #for isnan\n",
    "from pandas.io.json import json_normalize"
   ]
  },
  {
   "cell_type": "markdown",
   "metadata": {},
   "source": [
    "### Initialization "
   ]
  },
  {
   "cell_type": "code",
   "execution_count": 4,
   "metadata": {},
   "outputs": [],
   "source": [
    "#PATHS\n",
    "DATA_FOLDER = './data/'\n",
    "caricom_sample = DATA_FOLDER +'Caricom_Archive_Sample_Schema1.txt'\n",
    "caricom = DATA_FOLDER +'Caricom_Archive.txt'"
   ]
  },
  {
   "cell_type": "markdown",
   "metadata": {},
   "source": [
    "### Load "
   ]
  },
  {
   "cell_type": "code",
   "execution_count": 5,
   "metadata": {},
   "outputs": [
    {
     "data": {
      "text/html": [
       "<div>\n",
       "<style scoped>\n",
       "    .dataframe tbody tr th:only-of-type {\n",
       "        vertical-align: middle;\n",
       "    }\n",
       "\n",
       "    .dataframe tbody tr th {\n",
       "        vertical-align: top;\n",
       "    }\n",
       "\n",
       "    .dataframe thead th {\n",
       "        text-align: right;\n",
       "    }\n",
       "</style>\n",
       "<table border=\"1\" class=\"dataframe\">\n",
       "  <thead>\n",
       "    <tr style=\"text-align: right;\">\n",
       "      <th></th>\n",
       "      <th>person</th>\n",
       "      <th>date</th>\n",
       "      <th>origin</th>\n",
       "      <th>colonial_Location</th>\n",
       "      <th>confidence_date</th>\n",
       "      <th>confidence_person</th>\n",
       "      <th>confidence_origin</th>\n",
       "      <th>activities</th>\n",
       "      <th>whole_entry</th>\n",
       "      <th>tmp_colonial</th>\n",
       "      <th>col_loc_geonameid</th>\n",
       "      <th>col_loc_geo_name</th>\n",
       "      <th>col_capital</th>\n",
       "      <th>col_latitude</th>\n",
       "      <th>col_longitude</th>\n",
       "      <th>origin_as_found</th>\n",
       "      <th>origin_loc_geonameid</th>\n",
       "      <th>origin_geo_name</th>\n",
       "      <th>origin_latitude</th>\n",
       "      <th>origin_longitude</th>\n",
       "    </tr>\n",
       "  </thead>\n",
       "  <tbody>\n",
       "    <tr>\n",
       "      <th>0</th>\n",
       "      <td>Arthur Thellusson</td>\n",
       "      <td>None</td>\n",
       "      <td>Geneva</td>\n",
       "      <td>Antigua and Barbuda</td>\n",
       "      <td>0</td>\n",
       "      <td>25.00</td>\n",
       "      <td>100.00</td>\n",
       "      <td>[slave owner]</td>\n",
       "      <td>=&gt; Arthur Thellusson, son of Lord Rendlesham a...</td>\n",
       "      <td>Antigua and Barbuda</td>\n",
       "      <td>3576396</td>\n",
       "      <td>Antigua and Barbuda</td>\n",
       "      <td>St. John's</td>\n",
       "      <td>17.12096</td>\n",
       "      <td>-61.84329</td>\n",
       "      <td>Geneva</td>\n",
       "      <td>2.66065e+06</td>\n",
       "      <td>Genève</td>\n",
       "      <td>46.20222</td>\n",
       "      <td>6.14569</td>\n",
       "    </tr>\n",
       "    <tr>\n",
       "      <th>1</th>\n",
       "      <td>Peter Thelluson</td>\n",
       "      <td>1767</td>\n",
       "      <td>Geneva</td>\n",
       "      <td>Barbados</td>\n",
       "      <td>33.33</td>\n",
       "      <td>100.00</td>\n",
       "      <td>100.00</td>\n",
       "      <td>[slave owner]</td>\n",
       "      <td>=&gt; In 1767, Peter Thelluson (1737-1797), a Swi...</td>\n",
       "      <td>Barbados</td>\n",
       "      <td>3374084</td>\n",
       "      <td>Barbados</td>\n",
       "      <td>Bridgetown</td>\n",
       "      <td>13.10732</td>\n",
       "      <td>-59.62021</td>\n",
       "      <td>Geneva</td>\n",
       "      <td>2.66065e+06</td>\n",
       "      <td>Genève</td>\n",
       "      <td>46.20222</td>\n",
       "      <td>6.14569</td>\n",
       "    </tr>\n",
       "    <tr>\n",
       "      <th>2</th>\n",
       "      <td>JeanAntoine Bertrand</td>\n",
       "      <td>None</td>\n",
       "      <td>Geneva</td>\n",
       "      <td>Dominica</td>\n",
       "      <td>0</td>\n",
       "      <td>25.00</td>\n",
       "      <td>100.00</td>\n",
       "      <td>[slave owner, plantation owner, trading]</td>\n",
       "      <td>=&gt; Jean-Antoine Bertrand (1726-1780) from the ...</td>\n",
       "      <td>Dominica</td>\n",
       "      <td>3575830</td>\n",
       "      <td>Dominica</td>\n",
       "      <td>Roseau</td>\n",
       "      <td>15.30174</td>\n",
       "      <td>-61.38808</td>\n",
       "      <td>Geneva</td>\n",
       "      <td>2.66065e+06</td>\n",
       "      <td>Genève</td>\n",
       "      <td>46.20222</td>\n",
       "      <td>6.14569</td>\n",
       "    </tr>\n",
       "    <tr>\n",
       "      <th>3</th>\n",
       "      <td>Peter Thelluson</td>\n",
       "      <td>1768</td>\n",
       "      <td>Geneva</td>\n",
       "      <td>Grenada</td>\n",
       "      <td>10.00</td>\n",
       "      <td>33.33</td>\n",
       "      <td>100.00</td>\n",
       "      <td>[slave owner, plantation owner, trading]</td>\n",
       "      <td>=&gt; In 1768, Peter Thelluson (1737-1797), a Swi...</td>\n",
       "      <td>Grenada</td>\n",
       "      <td>3580239</td>\n",
       "      <td>Grenada</td>\n",
       "      <td>St. George's</td>\n",
       "      <td>12.05288</td>\n",
       "      <td>-61.75226</td>\n",
       "      <td>Geneva</td>\n",
       "      <td>2.66065e+06</td>\n",
       "      <td>Genève</td>\n",
       "      <td>46.20222</td>\n",
       "      <td>6.14569</td>\n",
       "    </tr>\n",
       "    <tr>\n",
       "      <th>4</th>\n",
       "      <td>Jan Vincent Mittelholzer</td>\n",
       "      <td>1760</td>\n",
       "      <td>Geneva</td>\n",
       "      <td>Guyana</td>\n",
       "      <td>11.11</td>\n",
       "      <td>12.50</td>\n",
       "      <td>50.00</td>\n",
       "      <td>[slave owner, plantation owner, trading]</td>\n",
       "      <td>=&gt; Around 1760, the sugar plantation De Vreede...</td>\n",
       "      <td>Guyana</td>\n",
       "      <td>3378535</td>\n",
       "      <td>Guyana</td>\n",
       "      <td>Georgetown</td>\n",
       "      <td>6.80448</td>\n",
       "      <td>-58.15527</td>\n",
       "      <td>Geneva</td>\n",
       "      <td>2.66065e+06</td>\n",
       "      <td>Genève</td>\n",
       "      <td>46.20222</td>\n",
       "      <td>6.14569</td>\n",
       "    </tr>\n",
       "  </tbody>\n",
       "</table>\n",
       "</div>"
      ],
      "text/plain": [
       "                     person  date  origin    colonial_Location  \\\n",
       "0         Arthur Thellusson  None  Geneva  Antigua and Barbuda   \n",
       "1           Peter Thelluson  1767  Geneva             Barbados   \n",
       "2     JeanAntoine Bertrand   None  Geneva             Dominica   \n",
       "3           Peter Thelluson  1768  Geneva              Grenada   \n",
       "4  Jan Vincent Mittelholzer  1760  Geneva               Guyana   \n",
       "\n",
       "  confidence_date confidence_person confidence_origin  \\\n",
       "0               0             25.00            100.00   \n",
       "1           33.33            100.00            100.00   \n",
       "2               0             25.00            100.00   \n",
       "3           10.00             33.33            100.00   \n",
       "4           11.11             12.50             50.00   \n",
       "\n",
       "                                 activities  \\\n",
       "0                             [slave owner]   \n",
       "1                             [slave owner]   \n",
       "2  [slave owner, plantation owner, trading]   \n",
       "3  [slave owner, plantation owner, trading]   \n",
       "4  [slave owner, plantation owner, trading]   \n",
       "\n",
       "                                         whole_entry         tmp_colonial  \\\n",
       "0  => Arthur Thellusson, son of Lord Rendlesham a...  Antigua and Barbuda   \n",
       "1  => In 1767, Peter Thelluson (1737-1797), a Swi...             Barbados   \n",
       "2  => Jean-Antoine Bertrand (1726-1780) from the ...             Dominica   \n",
       "3  => In 1768, Peter Thelluson (1737-1797), a Swi...              Grenada   \n",
       "4  => Around 1760, the sugar plantation De Vreede...               Guyana   \n",
       "\n",
       "   col_loc_geonameid     col_loc_geo_name   col_capital  col_latitude  \\\n",
       "0            3576396  Antigua and Barbuda    St. John's      17.12096   \n",
       "1            3374084             Barbados    Bridgetown      13.10732   \n",
       "2            3575830             Dominica        Roseau      15.30174   \n",
       "3            3580239              Grenada  St. George's      12.05288   \n",
       "4            3378535               Guyana    Georgetown       6.80448   \n",
       "\n",
       "   col_longitude origin_as_found origin_loc_geonameid origin_geo_name  \\\n",
       "0      -61.84329          Geneva          2.66065e+06          Genève   \n",
       "1      -59.62021          Geneva          2.66065e+06          Genève   \n",
       "2      -61.38808          Geneva          2.66065e+06          Genève   \n",
       "3      -61.75226          Geneva          2.66065e+06          Genève   \n",
       "4      -58.15527          Geneva          2.66065e+06          Genève   \n",
       "\n",
       "   origin_latitude  origin_longitude  \n",
       "0         46.20222           6.14569  \n",
       "1         46.20222           6.14569  \n",
       "2         46.20222           6.14569  \n",
       "3         46.20222           6.14569  \n",
       "4         46.20222           6.14569  "
      ]
     },
     "execution_count": 5,
     "metadata": {},
     "output_type": "execute_result"
    }
   ],
   "source": [
    "df = pd.read_pickle(\"./generated_data/caricom_with_geoid.pkl\")\n",
    "df.head()"
   ]
  },
  {
   "cell_type": "markdown",
   "metadata": {},
   "source": [
    "### Functions"
   ]
  },
  {
   "cell_type": "code",
   "execution_count": 6,
   "metadata": {},
   "outputs": [],
   "source": [
    "def add_coordinates(col_lat,col_lon,or_lat,or_lon):\n",
    "    '''\n",
    "    Describe: function that create a geojson with data from dataframe\n",
    "    '''\n",
    "    geojson_structure['geometry']['coordinates'] =  [[col_lat, col_lon], [or_lat, or_lon]]\n",
    "    return geojson_structure"
   ]
  },
  {
   "cell_type": "markdown",
   "metadata": {},
   "source": [
    "### Dataframe processing\n",
    "#### Create a list in which new geojson are added for each dataframe entry"
   ]
  },
  {
   "cell_type": "code",
   "execution_count": 8,
   "metadata": {},
   "outputs": [],
   "source": [
    "iter = 0\n",
    "# empty list\n",
    "geojson_with_coo_list = []\n",
    "\n",
    "# loop on dataframe\n",
    "for i in range(len(df)):\n",
    "    entry = df.iloc[i]\n",
    "    \n",
    "    #define structure \n",
    "    geojson_structure ={\"type\": \"Feature\",\n",
    "     \"properties\": {\n",
    "         \"person\": '',\n",
    "         \"date\": '',\n",
    "         \"origin\": '',\n",
    "         \"colonial_location\":'',\n",
    "         \"activities\":'',\n",
    "         \"full_entry\":'',\n",
    "         \"confidence_date\":'',\n",
    "         \"confidence_person\":'',\n",
    "         \"confidence_origin\":'',\n",
    "         \n",
    "     },\n",
    "     \"geometry\":\n",
    "         { \"type\": \"LineString\", \n",
    "          \"coordinates\": []\n",
    "         }\n",
    "    }\n",
    "    # get entry values\n",
    "    or_lat = entry['origin_latitude']\n",
    "    or_lon = entry['origin_longitude']\n",
    "    col_lat = entry['col_latitude']\n",
    "    col_lon = entry['col_longitude']\n",
    "\n",
    "    entry['confidence_date']\n",
    "    entry['confidence_origin']\n",
    "    entry['confidence_person']\n",
    "    # no lines if NaN values\n",
    "    if math.isnan(or_lat) or  math.isnan(or_lon) or  math.isnan(col_lat) or  math.isnan(col_lon) :\n",
    "        iter +=1\n",
    "        continue\n",
    "    else :   \n",
    "        # create geojson with coordinates\n",
    "        geojson_with_coo = add_coordinates(or_lon,or_lat,col_lon,col_lat)\n",
    "        geojson_structure['properties']['person'] =  entry['person']\n",
    "        geojson_structure['properties']['date'] =  entry['date']\n",
    "        geojson_structure['properties']['origin'] =  entry['origin']\n",
    "        geojson_structure['properties']['activities'] =  entry['activities']\n",
    "        geojson_structure['properties']['full_entry'] =  entry['whole_entry']\n",
    "        geojson_structure['properties']['colonial_location'] =  entry['colonial_Location']\n",
    "        geojson_structure['properties']['confidence_date']=entry['confidence_date']\n",
    "        geojson_structure['properties']['confidence_person']=entry['confidence_person']\n",
    "        geojson_structure['properties']['confidence_origin']=entry['confidence_origin']\n",
    "         \n",
    "        # add to list\n",
    "        geojson_with_coo_list.append(geojson_with_coo)"
   ]
  },
  {
   "cell_type": "code",
   "execution_count": 9,
   "metadata": {},
   "outputs": [
    {
     "name": "stdout",
     "output_type": "stream",
     "text": [
      "We have 106 entries for the geojsons, 221 were dropped from the initial dataset of length 327 because they had no geographical coordinates.\n"
     ]
    }
   ],
   "source": [
    "print(f'We have {len(geojson_with_coo_list)} entries for the geojsons, {iter} were dropped from the initial dataset of length {len(df)} because they had no geographical coordinates.')"
   ]
  },
  {
   "cell_type": "markdown",
   "metadata": {},
   "source": [
    "### JSON for the collection"
   ]
  },
  {
   "cell_type": "code",
   "execution_count": 10,
   "metadata": {},
   "outputs": [],
   "source": [
    "overall_json = {\"type\": \"FeatureCollection\",\"features\": []}\n",
    "overall_json['features']= geojson_with_coo_list\n",
    "#overall_json"
   ]
  },
  {
   "cell_type": "markdown",
   "metadata": {},
   "source": [
    "### Dump GeoJSON"
   ]
  },
  {
   "cell_type": "code",
   "execution_count": 11,
   "metadata": {},
   "outputs": [],
   "source": [
    "a_file = open(\"./generated_data/lines.json\", \"w\")\n",
    "a_file = json.dump(overall_json, a_file) "
   ]
  },
  {
   "cell_type": "markdown",
   "metadata": {},
   "source": [
    "## Assessment "
   ]
  },
  {
   "cell_type": "markdown",
   "metadata": {},
   "source": [
    "It is interesting to understand why some of the data don't have geographical coordinates and thus canno't be visualized.\n",
    "In this case we cannot visualize if we don't have an origin location. "
   ]
  },
  {
   "cell_type": "markdown",
   "metadata": {},
   "source": [
    "The following list is all the origin for which  we weren't able to retrieve geographical informations"
   ]
  },
  {
   "cell_type": "code",
   "execution_count": 12,
   "metadata": {},
   "outputs": [],
   "source": [
    "#df.head()"
   ]
  },
  {
   "cell_type": "code",
   "execution_count": 13,
   "metadata": {},
   "outputs": [
    {
     "data": {
      "text/plain": [
       "16                None\n",
       "17                None\n",
       "18                None\n",
       "19                None\n",
       "20                None\n",
       "            ...       \n",
       "322            Germany\n",
       "323            Neuthal\n",
       "324            Rümlang\n",
       "325       Lichtensteig\n",
       "326    TumeglDomleschg\n",
       "Name: origin, Length: 221, dtype: object"
      ]
     },
     "execution_count": 13,
     "metadata": {},
     "output_type": "execute_result"
    }
   ],
   "source": [
    "no_geo_inf = df[df['origin_as_found'].isnull()]['origin']\n",
    "no_geo_inf"
   ]
  },
  {
   "cell_type": "code",
   "execution_count": 14,
   "metadata": {},
   "outputs": [
    {
     "data": {
      "text/plain": [
       "array([None, 'Saint-Aubin', 'Bournens', 'Bourmens', 'Echallens',\n",
       "       'Obersimmental', 'Bâle', '', 'Noraz', 'Le Locle', 'Rehetobel',\n",
       "       'Brazil', 'Morges', 'Ropraz', 'Gourgy', 'Africa', 'Lelienburg',\n",
       "       'Bürglen', 'Burgdorf', 'Thurgau', 'Treytorrens', 'Speicher',\n",
       "       'Walenstadt', 'La Tour-de-Peilz', 'Lutry', 'Murten', 'Switzerland',\n",
       "       'La Rochelle', 'Versoix', 'Sonvillier', 'Schftland',\n",
       "       'Saint-Domingue', 'Hunziker', 'Solothurn', 'Aargau', 'Dornach',\n",
       "       'Graubünden', 'Jamaica', 'Rougement', 'Mtier', 'Bischofszell',\n",
       "       'Unterseen BE', 'Couvet', 'Nantes', 'Zofingen', 'Klosters',\n",
       "       'Saint-Saphorin', 'Saint-Lgier-La Chisaz', 'Saint-Sulpice',\n",
       "       'La Cluse', 'Schwyz', 'Vendlincourt', 'Lenzburg', 'Avenches',\n",
       "       'Martinique', 'Guttannen', 'North Carolina', 'South Carolina',\n",
       "       'Bilten', 'Tenessee', 'Henau', 'BerneVaud', 'Frschels', 'Aa',\n",
       "       'Benken', 'Moudon', 'Java', 'Celigny', 'Soglio', 'Germany',\n",
       "       'Neuthal', 'Rümlang', 'Lichtensteig', 'TumeglDomleschg'],\n",
       "      dtype=object)"
      ]
     },
     "execution_count": 14,
     "metadata": {},
     "output_type": "execute_result"
    }
   ],
   "source": [
    "no_geo_inf.unique()"
   ]
  },
  {
   "cell_type": "code",
   "execution_count": 15,
   "metadata": {},
   "outputs": [
    {
     "name": "stdout",
     "output_type": "stream",
     "text": [
      "There are 221 origin with no geographic information, which represents 74 different locations.\n"
     ]
    }
   ],
   "source": [
    "print(f'There are {len(no_geo_inf)} origin with no geographic information, which represents {len(no_geo_inf.unique())} different locations.')"
   ]
  },
  {
   "cell_type": "code",
   "execution_count": 16,
   "metadata": {},
   "outputs": [],
   "source": [
    "originEmpty = len(df[df['origin']==''])"
   ]
  },
  {
   "cell_type": "code",
   "execution_count": 17,
   "metadata": {},
   "outputs": [
    {
     "name": "stdout",
     "output_type": "stream",
     "text": [
      "On this 221 entries without geographical coordinates, 9 were not retrieved to start with\n"
     ]
    }
   ],
   "source": [
    "print(f'On this {len(no_geo_inf)} entries without geographical coordinates, {originEmpty} were not retrieved to start with')"
   ]
  },
  {
   "cell_type": "markdown",
   "metadata": {},
   "source": [
    "## Further work "
   ]
  },
  {
   "cell_type": "markdown",
   "metadata": {},
   "source": [
    "### Thresholds"
   ]
  },
  {
   "cell_type": "code",
   "execution_count": 18,
   "metadata": {},
   "outputs": [],
   "source": [
    "df['confidence_date']= df['confidence_date'].apply(lambda x : float(x))\n",
    "df['confidence_origin']= df['confidence_origin'].apply(lambda x : float(x))\n",
    "df['confidence_person']= df['confidence_person'].apply(lambda x : float(x))"
   ]
  },
  {
   "cell_type": "code",
   "execution_count": 19,
   "metadata": {},
   "outputs": [
    {
     "name": "stdout",
     "output_type": "stream",
     "text": [
      "The average values for confidence level are the following : \n",
      " For date :   15.276452599388382\n",
      " For person : 51.8868501529052 \n",
      " For origin : 52.0488379204893\n"
     ]
    }
   ],
   "source": [
    "mean_conf_date = df.confidence_date.describe()['mean']\n",
    "mean_conf_origin = df.confidence_origin.describe()['mean']\n",
    "mean_conf_person = df.confidence_person.describe()['mean']\n",
    "\n",
    "print(f'The average values for confidence level are the following : \\n For date :   {mean_conf_date}\\n For person : {mean_conf_person} \\n For origin : {mean_conf_origin}')"
   ]
  }
 ],
 "metadata": {
  "kernelspec": {
   "display_name": "Python 3",
   "language": "python",
   "name": "python3"
  },
  "language_info": {
   "codemirror_mode": {
    "name": "ipython",
    "version": 3
   },
   "file_extension": ".py",
   "mimetype": "text/x-python",
   "name": "python",
   "nbconvert_exporter": "python",
   "pygments_lexer": "ipython3",
   "version": "3.8.5"
  }
 },
 "nbformat": 4,
 "nbformat_minor": 4
}
