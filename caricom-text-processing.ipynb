{
 "cells": [
  {
   "cell_type": "markdown",
   "metadata": {},
   "source": [
    "# Switzerland and Black Slavery"
   ]
  },
  {
   "cell_type": "markdown",
   "metadata": {},
   "source": [
    "## Header \n",
    "Author : Amina Matt and Yichen Wang  \n",
    "Date created : 14.10.2021  \n",
    "Date last modified : 22.12.2021  \n",
    "Python version : 3.8  \n",
    "Description : Natural Language processing of the [CARICOM Compilation Archive (CCA)](https://louverture.ch/cca/).\n",
    "The goal is to obtain \n",
    "- person name\n",
    "- origin, i.e. location in Switzerland\n",
    "- colonial location \n",
    "- date\n",
    "- activities\n",
    "for each actors identified in the CCA."
   ]
  },
  {
   "cell_type": "markdown",
   "metadata": {},
   "source": [
    "## Librairies"
   ]
  },
  {
   "cell_type": "code",
   "execution_count": 325,
   "metadata": {},
   "outputs": [],
   "source": [
    "# -*- coding: utf-8 -*-\n",
    "\n",
    "import nltk #Natural Language Toolkit is a natural language programming library\n",
    "import json #for dumpint of dictionary into json files\n",
    "import pandas as pd #Pandas provides data structure and data analysis tools\n",
    "from pandas.io.json import json_normalize\n",
    "# The following libraries are used for Named Entities Recognition and BIO taggings\n",
    "from nltk import pos_tag\n",
    "from nltk.tag import StanfordNERTagger\n",
    "from nltk.tokenize import word_tokenize\n",
    "from nltk.chunk import conlltags2tree\n",
    "from nltk.tree import Tree\n",
    "\n",
    "#Other\n",
    "import random\n",
    "import re "
   ]
  },
  {
   "cell_type": "markdown",
   "metadata": {},
   "source": [
    "## Initialization"
   ]
  },
  {
   "cell_type": "code",
   "execution_count": 326,
   "metadata": {},
   "outputs": [],
   "source": [
    "#PATHS\n",
    "DATA_FOLDER = './data/'\n",
    "caricom_sample = DATA_FOLDER +'Caricom_Archive_Sample_Schema1.txt' #sample text for testing \n",
    "caricom = DATA_FOLDER +'Caricom_Archive.txt'"
   ]
  },
  {
   "cell_type": "markdown",
   "metadata": {},
   "source": [
    "# Text separation into items \n",
    "In the [primary text source](https://louverture.ch/cca/), in each section there is a list of item/entries. Most items are separated by a return and the **=>** starting string. Each item references a different actor of colonial entreprise. The first step is to retrieve each item separately and append its index for future colonial location retrieval. Indeed the table of contents is mainly organized by colonial location (some sections don't refer explicitly to geographical location, and are treated separatly).\n",
    "Note that some items are separated with other symbols or in sublists. "
   ]
  },
  {
   "cell_type": "code",
   "execution_count": 327,
   "metadata": {
    "tags": []
   },
   "outputs": [],
   "source": [
    "def divide_items(textFilePath):\n",
    "    '''\n",
    "    Input: path for the text file of the website\n",
    "    Output: list of strings, where each element is an item, i.e. a separate entry in the document of origin with its colonial index appended.\n",
    "    Requirements: -\n",
    "    Description: separate the items based on the '\\n' '=>' string that characterize a new entry\n",
    "    '''\n",
    "    f = open(textFilePath,\"r\")\n",
    "    item = []\n",
    "    flagIntro = False\n",
    "    \n",
    "    #reading file \n",
    "    for line in f: \n",
    "        \n",
    "        if (line == '1 CARICOM MEMBER STATES\\n') :\n",
    "            flagIntro = True #the intro has been fully read\n",
    "            print('The introduction has been read. Retrieving entries.')\n",
    "        \n",
    "        # Index retrieving for colonial location \n",
    "        if flagIntro : #check if line is a TOC entry\n",
    "            if (line[0].isdigit()) and  (line[1] == '.') and (line[2].isdigit()) : #We have a subTOC entry, level n.n\n",
    "                \n",
    "                #For United States\n",
    "                if (line[0] == '3') and (line[3] == '.'):\n",
    "                    colonialIndex = line[0:5] \n",
    "                #For other subcategories\n",
    "                else :\n",
    "                    colonialIndex = line[0:3]\n",
    "                    colonialIndex = colonialIndex.replace('\\n','')\n",
    "              \n",
    "                #print('the colonial index is ' + str(colonialIndex))\n",
    "\n",
    "        # Items retrieving     \n",
    "        if (line != '\\n'):\n",
    "            if (line[0] == '=') and (line[1] == '>'):\n",
    "                item_text = ''\n",
    "                while (line != '\\n'):\n",
    "                    item_text = item_text + line\n",
    "                    line = f.readline()\n",
    "                \n",
    "                #Once the item is read we add its colonial index (corresponding to the TOC entry)\n",
    "                #We add the index at the end to retrieve it easily\n",
    "                item_text = item_text.replace('\\n','') \n",
    "                #print(item_text)\n",
    "                item_text = item_text + (' '+colonialIndex)\n",
    "                #print('The text item now has the colonial index'+item_text)\n",
    "                item.append(item_text)\n",
    "    \n",
    "    f.close()\n",
    "    return item "
   ]
  },
  {
   "cell_type": "code",
   "execution_count": 328,
   "metadata": {},
   "outputs": [
    {
     "name": "stdout",
     "output_type": "stream",
     "text": [
      "The introduction has been read. Retrieving entries.\n",
      "There are 464 items in total.\n"
     ]
    }
   ],
   "source": [
    "text_items = divide_items(caricom)\n",
    "items_total = len(text_items)\n",
    "print(f'There are {len(text_items)} items in total.')"
   ]
  },
  {
   "cell_type": "code",
   "execution_count": 329,
   "metadata": {},
   "outputs": [
    {
     "name": "stdout",
     "output_type": "stream",
     "text": [
      "This is one text item:\n",
      "=> A distant relative of Anton, Thomas and Sarah DeGraffenreid (see Carolinas) was Baker Boswell DeGraffenreid (1785-1855) from a family originally from Berne, one of the richest men in Fayette County, Tennessee. 74 slaves were registered on his plantation in 1850. Before he had started giving away slaves to his children in the 1840s, the number had been over 100. In the same district, one Henry Degrafinreid owned 23 slaves in 1860. In Franklin, Williamson County, Tennessee, one Mathew Fountaine DeGraffinreid (1779-1869) owned 44 slaves. 3.1.1.\n",
      "\n"
     ]
    }
   ],
   "source": [
    "print(f'This is one text item:\\n{text_items[random.randrange(len(text_items))]}.\\n')"
   ]
  },
  {
   "cell_type": "code",
   "execution_count": 330,
   "metadata": {},
   "outputs": [
    {
     "name": "stdout",
     "output_type": "stream",
     "text": [
      "Note the index at the end of the text\n"
     ]
    }
   ],
   "source": [
    "print('Note the index at the end of the text')"
   ]
  },
  {
   "cell_type": "markdown",
   "metadata": {},
   "source": [
    "## Table of Contents processing\n",
    "As mentioned earlier most sections and subsections are geographical locations. However some are regions, as \"French West Indies\" or concept as the \"Structural Contribution\" section. \n",
    "We defined here what is the information that should go the *colonial location* property."
   ]
  },
  {
   "cell_type": "code",
   "execution_count": 331,
   "metadata": {},
   "outputs": [],
   "source": [
    "def tocList_func(textFilePath):\n",
    "    '''\n",
    "    Input: path for the text file of the website\n",
    "    Output: list of index number and the corresponding clean title for colonial location \n",
    "    Requirements: -\n",
    "    Description: Retrieve all toc entries and replace the ones that have ambiguous names\n",
    "    '''\n",
    "    f = open(textFilePath,\"r\")\n",
    "    tocList = []\n",
    "    for line in f: \n",
    "        if (line == '1 CARICOM MEMBER STATES\\n') :\n",
    "            break\n",
    "        else : \n",
    "            if (line[0].isdigit()) and  (line[1] == '.') and (line[2].isdigit())  : #we have a subTOC entry, level n.n\n",
    "                toc = (line[0:3],line[4:-1])\n",
    "            #For United States\n",
    "                if (line[0] == '3') and (line[3] == '.'):\n",
    "                    toc = (line[0:5],line[6:-1]) #print(toc)\n",
    "                tocList.append(toc)\n",
    "    #manual cleaning \n",
    "    tocList[5]=('1.6','Guyana')\n",
    "    tocList[9]=('1.7','Haiti')\n",
    "    tocList[19]=('2.2','Netherlands Antilles')\n",
    "    tocList[20]=('2.3','French West Indies')\n",
    "    tocList[21]=('2.4','Danish West Indies')\n",
    "    tocList[24]=('3.1','North America')\n",
    "    tocList[38]=('3.2','Brazil')\n",
    "    #as these concern structural contribution over all the region there are in switzerland\n",
    "    tocList[41]=('4.1','Switzerland')\n",
    "    tocList[42]=('4.2','Switzerland')\n",
    "    tocList[43]=('4.3','Switzerland')\n",
    "    f.close()\n",
    "    return tocList\n",
    "tocList = tocList_func(caricom)   "
   ]
  },
  {
   "cell_type": "markdown",
   "metadata": {},
   "source": [
    "## Named Entities Recognition with NER Stanford \n",
    "The first objective is to extract information of interest from the text. In this case we are interested in person's names, locations and activities. The first step towards this goal is to use Named Entities Recognition to recognize which words contain the information we are looking for."
   ]
  },
  {
   "cell_type": "code",
   "execution_count": 332,
   "metadata": {},
   "outputs": [
    {
     "name": "stdout",
     "output_type": "stream",
     "text": [
      "[('=', 'O'), ('>', 'O'), ('François', 'PERSON'), ('Aimé', 'PERSON'), ('Louis', 'PERSON'), ('Dumoulin', 'PERSON'), ('(', 'O'), ('1753-1834', 'O'), (')', 'O'), ('from', 'O'), ('Vevey', 'LOCATION'), ('(', 'O'), ('Canton', 'LOCATION'), ('of', 'O'), ('BerneVaud', 'O'), (')', 'O'), ('left', 'O'), ('Switzerland', 'LOCATION'), ('at', 'O'), ('the', 'O'), ('age', 'O'), ('of', 'O'), ('20', 'O'), ('for', 'O'), ('the', 'O'), ('Caribbean', 'LOCATION'), ('and', 'O'), ('lived', 'O'), ('on', 'O'), ('Grenada', 'LOCATION'), ('1773–1783', 'O'), ('.', 'O'), ('He', 'O'), ('worked', 'O'), ('as', 'O'), ('a', 'O'), ('painter', 'O'), (',', 'O'), ('secretary', 'O'), ('to', 'O'), ('the', 'O'), ('governor', 'O'), ('of', 'O'), ('the', 'O'), ('island', 'O'), (',', 'O'), ('and', 'O'), ('merchant', 'O'), ('.', 'O'), ('In', 'O'), ('1778', 'DATE'), (',', 'O'), ('he', 'O'), ('was', 'O'), ('pressed', 'O'), ('into', 'O'), ('the', 'O'), ('English', 'O'), ('army', 'O'), ('of', 'O'), ('Governor', 'O'), ('MacCartney', 'O'), ('.', 'O')]\n"
     ]
    }
   ],
   "source": [
    "#Stanford NER \n",
    "NER_FOLDER = './NER-Standford/stanford-ner-2020-11-17'\n",
    "CLASSIFIER_PATH = NER_FOLDER+'/classifiers/'\n",
    "JAR_PATH = NER_FOLDER+'/stanford-ner.jar'\n",
    "\n",
    "#classifiers\n",
    "classifier_3 = 'english.all.3class.distsim.crf.ser.gz'#3 class model for recognizing locations, persons, and organizations\n",
    "classifier_4 = 'english.conll.4class.distsim.crf.ser.gz'#4 class model for recognizing locations, persons, organizations, and miscellaneous entities\n",
    "classifier_7 = 'english.muc.7class.distsim.crf.ser.gz' #7 class model for recognizing locations, persons, organizations, times, money, percents, and dates\n",
    "\n",
    "st = StanfordNERTagger(CLASSIFIER_PATH+classifier_7, JAR_PATH, encoding='utf-8')\n",
    "\n",
    "\n",
    "\n",
    "#Extracting named-entities\n",
    "text = open(caricom_sample, 'r').read()\n",
    "tokenized_text = word_tokenize(text)\n",
    "classified_text = st.tag(tokenized_text)\n",
    "\n",
    "print(classified_text)"
   ]
  },
  {
   "cell_type": "markdown",
   "metadata": {},
   "source": [
    "At this point the whole text is tagged. However the entities aren't grouped together. For example, a person full name is separate into two tuples."
   ]
  },
  {
   "cell_type": "markdown",
   "metadata": {},
   "source": [
    "## BIO tagging for readable Named Entities (i.e. regrouped NE)"
   ]
  },
  {
   "cell_type": "markdown",
   "metadata": {},
   "source": [
    "[BIO](https://en.wikipedia.org/wiki/Inside–outside–beginning_(tagging)) tags are a way to regroup tokens, to make the output more readable. \n",
    "A person name with first and last name should be regroup by assigning  \n",
    " -B to the beginning of named entities  \n",
    " -I assigned to inside  \n",
    " -O assigned to other  \n",
    "This is done by checking the tokens just before and after the one of interest."
   ]
  },
  {
   "cell_type": "code",
   "execution_count": 333,
   "metadata": {},
   "outputs": [],
   "source": [
    "# Function imported from \n",
    "# https://pythonprogramming.net/using-bio-tags-create-named-entity-lists/?completed=/testing-stanford-ner-taggers-for-speed/\n",
    "\n",
    "# Tag tokens with standard NLP BIO tags\n",
    "def bio_tagger(ne_tagged):\n",
    "\t\t'''\n",
    "\t\tInput: text with name entities tags\n",
    "\t\tOutput: text with BIO-tags instead of NE tags\n",
    "\t\tRequirements: -\n",
    "\t\tDescription: Use tages position to locate their position\n",
    "\t\t'''\n",
    "\t\tbio_tagged = [] #empty list\n",
    "\t\tprev_tag = \"O\" #starting with a O tag\n",
    "\t\tfor token, tag in ne_tagged:\n",
    "\t\t\tif tag == \"O\": #O\n",
    "\t\t\t\tbio_tagged.append((token, tag))\n",
    "\t\t\t\tprev_tag = tag\n",
    "\t\t\t\tcontinue\n",
    "\t\t\tif tag != \"O\" and prev_tag == \"O\": # Begin NE\n",
    "\t\t\t\tbio_tagged.append((token, \"B-\"+tag))\n",
    "\t\t\t\tprev_tag = tag\n",
    "\t\t\telif prev_tag != \"O\" and prev_tag == tag: # Inside NE\n",
    "\t\t\t\tbio_tagged.append((token, \"I-\"+tag))\n",
    "\t\t\t\tprev_tag = tag\n",
    "\t\t\telif prev_tag != \"O\" and prev_tag != tag: # Adjacent NE\n",
    "\t\t\t\tbio_tagged.append((token, \"B-\"+tag))\n",
    "\t\t\t\tprev_tag = tag\n",
    "\t\treturn bio_tagged"
   ]
  },
  {
   "cell_type": "code",
   "execution_count": 334,
   "metadata": {
    "tags": []
   },
   "outputs": [
    {
     "data": {
      "text/plain": [
       "[('=', 'O'),\n",
       " ('>', 'O'),\n",
       " ('François', 'B-PERSON'),\n",
       " ('Aimé', 'I-PERSON'),\n",
       " ('Louis', 'I-PERSON'),\n",
       " ('Dumoulin', 'I-PERSON'),\n",
       " ('(', 'O'),\n",
       " ('1753-1834', 'O'),\n",
       " (')', 'O'),\n",
       " ('from', 'O'),\n",
       " ('Vevey', 'B-LOCATION'),\n",
       " ('(', 'O'),\n",
       " ('Canton', 'B-LOCATION'),\n",
       " ('of', 'O'),\n",
       " ('BerneVaud', 'O'),\n",
       " (')', 'O'),\n",
       " ('left', 'O'),\n",
       " ('Switzerland', 'B-LOCATION'),\n",
       " ('at', 'O'),\n",
       " ('the', 'O'),\n",
       " ('age', 'O'),\n",
       " ('of', 'O'),\n",
       " ('20', 'O'),\n",
       " ('for', 'O'),\n",
       " ('the', 'O'),\n",
       " ('Caribbean', 'B-LOCATION'),\n",
       " ('and', 'O'),\n",
       " ('lived', 'O'),\n",
       " ('on', 'O'),\n",
       " ('Grenada', 'B-LOCATION'),\n",
       " ('1773–1783', 'O'),\n",
       " ('.', 'O'),\n",
       " ('He', 'O'),\n",
       " ('worked', 'O'),\n",
       " ('as', 'O'),\n",
       " ('a', 'O'),\n",
       " ('painter', 'O'),\n",
       " (',', 'O'),\n",
       " ('secretary', 'O'),\n",
       " ('to', 'O'),\n",
       " ('the', 'O'),\n",
       " ('governor', 'O'),\n",
       " ('of', 'O'),\n",
       " ('the', 'O'),\n",
       " ('island', 'O'),\n",
       " (',', 'O'),\n",
       " ('and', 'O'),\n",
       " ('merchant', 'O'),\n",
       " ('.', 'O'),\n",
       " ('In', 'O'),\n",
       " ('1778', 'B-DATE'),\n",
       " (',', 'O'),\n",
       " ('he', 'O'),\n",
       " ('was', 'O'),\n",
       " ('pressed', 'O'),\n",
       " ('into', 'O'),\n",
       " ('the', 'O'),\n",
       " ('English', 'O'),\n",
       " ('army', 'O'),\n",
       " ('of', 'O'),\n",
       " ('Governor', 'O'),\n",
       " ('MacCartney', 'O'),\n",
       " ('.', 'O')]"
      ]
     },
     "execution_count": 334,
     "metadata": {},
     "output_type": "execute_result"
    }
   ],
   "source": [
    "bio_text = bio_tagger(classified_text)\n",
    "bio_text"
   ]
  },
  {
   "cell_type": "markdown",
   "metadata": {},
   "source": [
    "Using the BIO tags we can recreate a tokens list with regrouped/readable named entities. "
   ]
  },
  {
   "cell_type": "code",
   "execution_count": 335,
   "metadata": {},
   "outputs": [],
   "source": [
    "# Function imported from \n",
    "# https://pythonprogramming.net/using-bio-tags-create-named-entity-lists/?completed=/testing-stanford-ner-taggers-for-speed/\n",
    "\n",
    "# Create tree       \n",
    "def stanford_tree(bio_tagged):\n",
    "\ttokens_raw, ne_tags = zip(*bio_tagged)\n",
    "\ttokens = [word for word in tokens_raw if word]\n",
    "\tpos_tags = [pos for token, pos in pos_tag(tokens)]\n",
    "\n",
    "\tconlltags = [(token, pos, ne) for token, pos, ne in zip(tokens, pos_tags, ne_tags)]\n",
    "\tne_tree = conlltags2tree(conlltags) #from BIO to tree format\n",
    "\treturn ne_tree"
   ]
  },
  {
   "cell_type": "code",
   "execution_count": 336,
   "metadata": {},
   "outputs": [
    {
     "data": {
      "image/png": "[encoded data removed]",
      "text/plain": [
       "Tree('S', [('=', 'JJ'), ('>', 'NNP'), Tree('PERSON', [('François', 'NNP'), ('Aimé', 'NNP'), ('Louis', 'NNP'), ('Dumoulin', 'NNP')]), ('(', '('), ('1753-1834', 'JJ'), (')', ')'), ('from', 'IN'), Tree('LOCATION', [('Vevey', 'NNP')]), ('(', '('), Tree('LOCATION', [('Canton', 'NNP')]), ('of', 'IN'), ('BerneVaud', 'NNP'), (')', ')'), ('left', 'VBD'), Tree('LOCATION', [('Switzerland', 'NNP')]), ('at', 'IN'), ('the', 'DT'), ('age', 'NN'), ('of', 'IN'), ('20', 'CD'), ('for', 'IN'), ('the', 'DT'), Tree('LOCATION', [('Caribbean', 'NNP')]), ('and', 'CC'), ('lived', 'VBD'), ('on', 'IN'), Tree('LOCATION', [('Grenada', 'NNP')]), ('1773–1783', 'CD'), ('.', '.'), ('He', 'PRP'), ('worked', 'VBD'), ('as', 'IN'), ('a', 'DT'), ('painter', 'NN'), (',', ','), ('secretary', 'NN'), ('to', 'TO'), ('the', 'DT'), ('governor', 'NN'), ('of', 'IN'), ('the', 'DT'), ('island', 'NN'), (',', ','), ('and', 'CC'), ('merchant', 'NN'), ('.', '.'), ('In', 'IN'), Tree('DATE', [('1778', 'CD')]), (',', ','), ('he', 'PRP'), ('was', 'VBD'), ('pressed', 'VBN'), ('into', 'IN'), ('the', 'DT'), ('English', 'JJ'), ('army', 'NN'), ('of', 'IN'), ('Governor', 'NNP'), ('MacCartney', 'NNP'), ('.', '.')])"
      ]
     },
     "execution_count": 336,
     "metadata": {},
     "output_type": "execute_result"
    }
   ],
   "source": [
    "tree_text = stanford_tree(bio_text)\n",
    "tree_text"
   ]
  },
  {
   "cell_type": "code",
   "execution_count": 337,
   "metadata": {},
   "outputs": [],
   "source": [
    "# Function imported from \n",
    "# https://pythonprogramming.net/using-bio-tags-create-named-entity-lists/?completed=/testing-stanford-ner-taggers-for-speed/\n",
    "\n",
    "# Parse named entities from tree\n",
    "def structure_ne(ne_tree):\n",
    "\tne = []\n",
    "\tfor subtree in ne_tree:\n",
    "\t\tif type(subtree) == Tree: # If subtree is a noun chunk, i.e. NE != \"O\"\n",
    "\t\t\tne_label = subtree.label()\n",
    "\t\t\tne_string = \" \".join([token for token, pos in subtree.leaves()])\n",
    "\t\t\tne.append((ne_string, ne_label))\n",
    "\t\telse:\n",
    "\t\t\tne_label = 'O'\n",
    "\t\t\tne_string = subtree[0]\n",
    "\t\t\tne.append((ne_string, ne_label))           \n",
    "\treturn ne"
   ]
  },
  {
   "cell_type": "code",
   "execution_count": 338,
   "metadata": {
    "tags": []
   },
   "outputs": [
    {
     "data": {
      "text/plain": [
       "[('=', 'O'),\n",
       " ('>', 'O'),\n",
       " ('François Aimé Louis Dumoulin', 'PERSON'),\n",
       " ('(', 'O'),\n",
       " ('1753-1834', 'O'),\n",
       " (')', 'O'),\n",
       " ('from', 'O'),\n",
       " ('Vevey', 'LOCATION'),\n",
       " ('(', 'O'),\n",
       " ('Canton', 'LOCATION'),\n",
       " ('of', 'O'),\n",
       " ('BerneVaud', 'O'),\n",
       " (')', 'O'),\n",
       " ('left', 'O'),\n",
       " ('Switzerland', 'LOCATION'),\n",
       " ('at', 'O'),\n",
       " ('the', 'O'),\n",
       " ('age', 'O'),\n",
       " ('of', 'O'),\n",
       " ('20', 'O'),\n",
       " ('for', 'O'),\n",
       " ('the', 'O'),\n",
       " ('Caribbean', 'LOCATION'),\n",
       " ('and', 'O'),\n",
       " ('lived', 'O'),\n",
       " ('on', 'O'),\n",
       " ('Grenada', 'LOCATION'),\n",
       " ('1773–1783', 'O'),\n",
       " ('.', 'O'),\n",
       " ('He', 'O'),\n",
       " ('worked', 'O'),\n",
       " ('as', 'O'),\n",
       " ('a', 'O'),\n",
       " ('painter', 'O'),\n",
       " (',', 'O'),\n",
       " ('secretary', 'O'),\n",
       " ('to', 'O'),\n",
       " ('the', 'O'),\n",
       " ('governor', 'O'),\n",
       " ('of', 'O'),\n",
       " ('the', 'O'),\n",
       " ('island', 'O'),\n",
       " (',', 'O'),\n",
       " ('and', 'O'),\n",
       " ('merchant', 'O'),\n",
       " ('.', 'O'),\n",
       " ('In', 'O'),\n",
       " ('1778', 'DATE'),\n",
       " (',', 'O'),\n",
       " ('he', 'O'),\n",
       " ('was', 'O'),\n",
       " ('pressed', 'O'),\n",
       " ('into', 'O'),\n",
       " ('the', 'O'),\n",
       " ('English', 'O'),\n",
       " ('army', 'O'),\n",
       " ('of', 'O'),\n",
       " ('Governor', 'O'),\n",
       " ('MacCartney', 'O'),\n",
       " ('.', 'O')]"
      ]
     },
     "execution_count": 338,
     "metadata": {},
     "output_type": "execute_result"
    }
   ],
   "source": [
    "clean_ne = structure_ne(tree_text)\n",
    "clean_ne"
   ]
  },
  {
   "cell_type": "code",
   "execution_count": 339,
   "metadata": {},
   "outputs": [],
   "source": [
    "def ner_text(text):\n",
    "    '''\n",
    "    Input: One text, here one entry from the CCA \n",
    "    Output: Text with NER tags (and grouped entitites when necessary)\n",
    "    '''\n",
    "    tokenized_text = word_tokenize(text)\n",
    "    classified_text = st.tag(tokenized_text)\n",
    "    bio_text = bio_tagger(classified_text)\n",
    "    tree_text = stanford_tree(bio_text)\n",
    "    ner_item = structure_ne(tree_text)\n",
    "    return ner_item"
   ]
  },
  {
   "cell_type": "markdown",
   "metadata": {},
   "source": [
    "#### Helper for text and tags separation from NER "
   ]
  },
  {
   "cell_type": "code",
   "execution_count": 340,
   "metadata": {},
   "outputs": [],
   "source": [
    "def text_and_tags(item):\n",
    "    '''\n",
    "    Input : item with bothe text and tags\n",
    "    Output : text and tags separated \n",
    "    Requirements : -\n",
    "    Description : Separation of \n",
    "    '''\n",
    "    #Default\n",
    "    schema1 = False\n",
    "    s1item_JSON = None\n",
    "    #Separate text and tags\n",
    "    text = [x[0] for x in item]\n",
    "    tags = [x[1] for x in item]\n",
    "    return text,tags"
   ]
  },
  {
   "cell_type": "markdown",
   "metadata": {},
   "source": [
    "## Schemas"
   ]
  },
  {
   "cell_type": "markdown",
   "metadata": {},
   "source": [
    "We recognize two differents schemas.  \n",
    "Schema I:  \n",
    "  **Name** (*date*) from *city*   \n",
    "Schema II:   \n",
    " In (*date*), **Name** from *city*   \n",
    "\n",
    "We use this information to organize the retrieval, namely we are going to identify PERSON tag as an indicator for for name and from as indicator of LOCATION. Then we will process the string  before, in between and after the indicators."
   ]
  },
  {
   "cell_type": "markdown",
   "metadata": {},
   "source": [
    "## Origin Location"
   ]
  },
  {
   "cell_type": "markdown",
   "metadata": {},
   "source": [
    " ### Origin location retrieval "
   ]
  },
  {
   "cell_type": "code",
   "execution_count": 341,
   "metadata": {},
   "outputs": [],
   "source": [
    "def origin_location_index(text,tags):\n",
    "    '''\n",
    "    Input : text and ner tags\n",
    "    Output : index for origin location position or -1 if no origin location found \n",
    "    Requirements : -\n",
    "    Description : The origin location is search according to schema 1 and 2 just after the word 'from' and retrieved if found \n",
    "    '''\n",
    "    #The origin location can be found, according to schema 1 and 2 also be just after the 'from'...\n",
    " \n",
    "    try:\n",
    "        #Case 1: 1 word origin location\n",
    "        origin_Index_method1 = text.index('from')\n",
    "        origin_1 = text[origin_Index_method1+1]\n",
    "        #Case 2: 2 words origin location, e.g. Le Locle \n",
    "        #print('First letter' + text[origin_Index_method1+2][0])\n",
    "        if (text[origin_Index_method1+2][0]).isupper() : \n",
    "            origin_1 = origin_1 +' '+ text[origin_Index_method1+2]\n",
    "        #Case 3: the City of Location, e.g. the City of Geneva\n",
    "        if ((text[origin_Index_method1+2]) == 'City') or  ((text[origin_Index_method1+2]) == 'Canton'): \n",
    "            origin_1 = text[origin_Index_method1+4]\n",
    "        #print('The origin index using from gives origin as :' + origin_1)\n",
    "    except ValueError:\n",
    "        #print(\"Item does not contain any FROM string\")\n",
    "        #print(text)    \n",
    "        origin_1 = -1 #default\n",
    "        origin_Index_method1 = -1\n",
    "        \n",
    "    return origin_Index_method1,origin_1"
   ]
  },
  {
   "cell_type": "markdown",
   "metadata": {},
   "source": [
    "We need to clean the location because some of them contains extra information that will make the retrieving of geolocalisation difficult.  \n",
    "e.g. 'Neuchâtel ( NW Switzerland )'"
   ]
  },
  {
   "cell_type": "code",
   "execution_count": 342,
   "metadata": {},
   "outputs": [],
   "source": [
    "#cleaning of origin \n",
    "def clean_origin(origin): \n",
    "    '''\n",
    "    Input: origin location as retrieved with schemas and pattern matchin \n",
    "    Output: only city origin \n",
    "    Requirements: re library\n",
    "    Description: Take out information in parenthesis, as well as extra whitespaces for better merging.\n",
    "    '''\n",
    "    if origin == None or origin == -1:\n",
    "        return None\n",
    "   \n",
    "    #remove parenthesis and everything that comes after it \n",
    "    try :\n",
    "        start = origin.index('(')\n",
    "    except : \n",
    "        start = len(origin)\n",
    "    origin = origin[0:start]\n",
    "    #print(origin)\n",
    "    \n",
    "    #remove digits and symbols\n",
    "    origin = re.sub('[^A-Za-z -.âü]+','',origin)\n",
    "   \n",
    "    #split version\n",
    "    o_split = origin.split()\n",
    "    \n",
    "    cleanOrigin = ''\n",
    "    \n",
    "    for split in o_split:\n",
    "        #print(split)\n",
    "        #get rid of one letter word\n",
    "        \n",
    "        if len(split)>=2 and split[0].isupper():\n",
    "            #print('will keep '+split)\n",
    "            cleanOrigin = cleanOrigin+' '+split\n",
    "            #print(cleanOrigin)\n",
    "            cleanOrigin = cleanOrigin.strip()\n",
    "        else :\n",
    "            #print('will not keep '+split)\n",
    "            cleanOrigin = None\n",
    "            break\n",
    "        \n",
    "    if cleanOrigin == 'St.Gallen':\n",
    "        cleanOrigin = 'St. Gallen'\n",
    "        \n",
    "    return cleanOrigin "
   ]
  },
  {
   "cell_type": "markdown",
   "metadata": {},
   "source": [
    "### Origin location accuracy (with additional database for Swiss cities)"
   ]
  },
  {
   "cell_type": "markdown",
   "metadata": {},
   "source": [
    "#### Additional dataset for Swiss cities list"
   ]
  },
  {
   "cell_type": "code",
   "execution_count": 343,
   "metadata": {},
   "outputs": [],
   "source": [
    "#Import additional dataset\n",
    "PATH_CITIES = './data/worldcities.csv'\n",
    "cities_df = pd.read_csv(PATH_CITIES)  "
   ]
  },
  {
   "cell_type": "code",
   "execution_count": 344,
   "metadata": {},
   "outputs": [
    {
     "name": "stdout",
     "output_type": "stream",
     "text": [
      "<class 'pandas.core.frame.DataFrame'>\n",
      "RangeIndex: 41001 entries, 0 to 41000\n",
      "Data columns (total 11 columns):\n",
      " #   Column      Non-Null Count  Dtype  \n",
      "---  ------      --------------  -----  \n",
      " 0   city        41001 non-null  object \n",
      " 1   city_ascii  41001 non-null  object \n",
      " 2   lat         41001 non-null  float64\n",
      " 3   lng         41001 non-null  float64\n",
      " 4   country     41001 non-null  object \n",
      " 5   iso2        40970 non-null  object \n",
      " 6   iso3        41001 non-null  object \n",
      " 7   admin_name  40902 non-null  object \n",
      " 8   capital     9483 non-null   object \n",
      " 9   population  40263 non-null  float64\n",
      " 10  id          41001 non-null  int64  \n",
      "dtypes: float64(3), int64(1), object(7)\n",
      "memory usage: 3.4+ MB\n"
     ]
    }
   ],
   "source": [
    "cities_df.info()"
   ]
  },
  {
   "cell_type": "code",
   "execution_count": 345,
   "metadata": {},
   "outputs": [],
   "source": [
    "# Select Swiss cities\n",
    "swiss_cities_raw = cities_df[cities_df.country == 'Switzerland']"
   ]
  },
  {
   "cell_type": "code",
   "execution_count": 346,
   "metadata": {},
   "outputs": [],
   "source": [
    "# Select unique names from columns relative to cities' name \n",
    "all_city = swiss_cities_raw['city'].unique()\n",
    "all_city_ascii = swiss_cities_raw['city_ascii'].unique()\n",
    "swiss_cities = set(all_city).intersection(all_city_ascii)\n",
    "#name in the dataset are in their origin language\n",
    "#additional entries \n",
    "swiss_cities.add('St.Gallen')\n",
    "swiss_cities.add('Neuchâtel')\n",
    "swiss_cities.add('Bâle')\n",
    "swiss_cities.remove('Bern')\n",
    "swiss_cities.add('Berne') #as Bern is in Bern.e it will work for both\n",
    "#swiss_cities"
   ]
  },
  {
   "cell_type": "markdown",
   "metadata": {},
   "source": [
    "#### Accuracy of origin location "
   ]
  },
  {
   "cell_type": "code",
   "execution_count": 347,
   "metadata": {},
   "outputs": [],
   "source": [
    "def origin_confidence(text,swiss_cities):\n",
    "    '''\n",
    "    Input : item text and list of all swiss cities\n",
    "    Output : percentage accucary \n",
    "    Requirements : -\n",
    "    Description : Each city from the list of swiss cities in serach for in the text. The number of cities found is counted. The accuracy is the invesrse of cities found. \n",
    "    '''\n",
    "    #we will check how many swiss cities are in the text\n",
    "    accuracy = 0\n",
    "    cities = 0\n",
    "    for city in swiss_cities:\n",
    "        if (city) in text: #the space is here to guarantee that bern and berne are not counted twice\n",
    "            #print(city)\n",
    "            cities+=1\n",
    "    #the accuracy is the citiy over all possibilities\n",
    "    if (cities != 0) : accuracy = 1/cities * 100\n",
    "    return \"{0:.2f}\".format(accuracy)"
   ]
  },
  {
   "cell_type": "code",
   "execution_count": 348,
   "metadata": {},
   "outputs": [],
   "source": [
    "# n= 80 \n",
    "# origin_confidence(text_items[n],swiss_cities)"
   ]
  },
  {
   "cell_type": "code",
   "execution_count": 349,
   "metadata": {},
   "outputs": [],
   "source": [
    "# If we use the swiss cities list to retrieve without any scheme it doesnt increase the performance..\n",
    "# Notes \n",
    "# - _St.Gallen_ is not recognized because of missing space\n",
    "# - _Rougemont_\n",
    "# - _Saint-Aubin_\n",
    "# - _Au_ is recognized abusively\n",
    "# - _Neuchâtel_ is no recognize because in Frence (Neuenhof)\n",
    "# - _Zurich_ is not recognized because it is in French (missing ü)\n",
    "# - _Bâle_ is not recognized because in French (Basel)"
   ]
  },
  {
   "cell_type": "markdown",
   "metadata": {},
   "source": [
    "## Colonial location"
   ]
  },
  {
   "cell_type": "markdown",
   "metadata": {},
   "source": [
    "The colonial location is found by using the TOC index, appended earlier to the text item . "
   ]
  },
  {
   "cell_type": "code",
   "execution_count": 350,
   "metadata": {},
   "outputs": [],
   "source": [
    "def colonial_location(text,tocList) :\n",
    "    '''\n",
    "    Input : item text and table of contents list\n",
    "    Output : name of the colonial location \n",
    "    Requirements : - \n",
    "    Description : The function match the index with the toc list entries\n",
    "    '''\n",
    "    #TOC section number\n",
    "    tocFromText = text[len(text)-1]#the last item is the TOC entry \n",
    "    #print(tocFromText)\n",
    "    \n",
    "    # only TOC section numbers\n",
    "    tocListIndex = [x[0] for x in tocList]\n",
    "    \n",
    "    # find position of TOC section number in toclist section numbers\n",
    "    index = tocListIndex.index(tocFromText)\n",
    "    \n",
    "    # use position to retrieve location name \n",
    "    colonialLoc = tocList[index][1]\n",
    "    \n",
    "    return colonialLoc "
   ]
  },
  {
   "cell_type": "markdown",
   "metadata": {},
   "source": [
    "Note that there isn't any confidence level for this property as it comes directly from the author and is unambiguous.\n"
   ]
  },
  {
   "cell_type": "markdown",
   "metadata": {},
   "source": [
    "## Person name"
   ]
  },
  {
   "cell_type": "code",
   "execution_count": 351,
   "metadata": {},
   "outputs": [],
   "source": [
    "def person_index(text,tags):\n",
    "    '''\n",
    "    Input : text and tages separate\n",
    "    Output : the index of the person name in the text (-1 if no 'PERSON' tag)\n",
    "    Requirements : -\n",
    "    Description : This functions find the position of the PERSON tag and return -1\n",
    "    '''\n",
    "    ##--Start and end of piece of interest, i.e. ...'PERSON'.....'LOCATION'--##\n",
    "    try:\n",
    "        person_Index = tags.index('PERSON')\n",
    "        #print(\"Item does contain a PERSON value\"+str(text[person_Index]))\n",
    "    except ValueError:\n",
    "        person_Index = -1 #default\n",
    "        #print(\"Item does not contain a PERSON value\")\n",
    "    return person_Index"
   ]
  },
  {
   "cell_type": "markdown",
   "metadata": {},
   "source": [
    "## Activities"
   ]
  },
  {
   "cell_type": "code",
   "execution_count": 352,
   "metadata": {},
   "outputs": [],
   "source": [
    "def colonial_activites(text):\n",
    "    '''\n",
    "    Input : text\n",
    "    Output : list of colonial activities found in the text\n",
    "    Requirements : -\n",
    "    Description : 6 categories are defined manually by a sequence of keywords. Keywords are used to find which categories are present in the text. \n",
    "    '''\n",
    "    # Colonial activities\n",
    "    # goods = ['cotton', 'indigo', 'sugar', 'tobacco', 'textile']\n",
    "    trading = ['company', 'companies', 'merchants', 'merchant']\n",
    "    military = ['soldier','captain','lieutenant','commander','regiment', 'rebellion', 'troops']\n",
    "    plantation = ['plantation', 'plantations']\n",
    "    slave_trade = ['slave ship', 'slave-ship']\n",
    "    slave_owner = ['slaves', 'slave', 'slave-owner']\n",
    "    racist = ['racism', 'racist', 'races']\n",
    "    result = []\n",
    "    fam_idx = -1\n",
    "    fam = False\n",
    "    if 'family' in text:\n",
    "        fam_idx = text.index('family')\n",
    "        fam = True\n",
    "        #print(fam_idx)\n",
    "    for i, word in enumerate(text):\n",
    "        if word in trading:\n",
    "            idx = i\n",
    "            #print(i)\n",
    "            if not fam: # check if it's from a merchant family \n",
    "                result.append('trading')\n",
    "            elif abs(fam_idx - i) > 5:\n",
    "                result.append('trading')\n",
    "        if word in military:\n",
    "            result.append('military')\n",
    "        if word in plantation:\n",
    "            idx = i\n",
    "            result.append('plantation owner')\n",
    "        if word in slave_trade:\n",
    "            result.append('slave trade')\n",
    "        if word in slave_owner:\n",
    "            result.append('slave owner')\n",
    "        if word in racist:\n",
    "            result.append('racist')\n",
    "\n",
    "    return None if len(result) == 0 else tuple(set(result))"
   ]
  },
  {
   "cell_type": "markdown",
   "metadata": {},
   "source": [
    "## Date"
   ]
  },
  {
   "cell_type": "code",
   "execution_count": 353,
   "metadata": {},
   "outputs": [],
   "source": [
    "def test_digit(date):\n",
    "    all_tests = [s.isdigit() for s in (date.split('-'))]\n",
    "    return sum(all_tests)== len(all_tests)"
   ]
  },
  {
   "cell_type": "code",
   "execution_count": 354,
   "metadata": {},
   "outputs": [],
   "source": [
    "def date(text,tags,person_Index,origin_Index_method1):\n",
    "    '''\n",
    "    Input : Text and NER tags as well as indices for origin location and person\n",
    "    Output : date if found or None \n",
    "    Requirements : - \n",
    "    Description : Either we have schema II and the date in the second string in the text, or we have schema I and the date is in between parenthesis between location and origin.\n",
    "    '''\n",
    "    #SCHEMA 2\n",
    "    #In YEAR' test \n",
    "    inYear = (text[2] == 'In') and (len(text[3]) == 4) and (text[3].isdigit())\n",
    "    inYearTwo = (text[2] == 'After') and (len(text[3]) == 4) and (text[3].isdigit())\n",
    "    inYearThree = (text[2] == 'Around') and (len(text[3]) == 4) and (text[3].isdigit())\n",
    "    \n",
    "    #print('This item looks like an schema 2 item '+str(inYear) + str(text[2:4]))\n",
    "    if inYear or inYearTwo or inYearThree:\n",
    "        date = text[3]\n",
    "        \n",
    "        #test if date is digits\n",
    "        if test_digit(date):\n",
    "            return date\n",
    "        else :\n",
    "            return None\n",
    "    \n",
    "    else :\n",
    "    #SCHEMA 1\n",
    "    #(date)\n",
    "        #Define part in between PER and LOC tags\n",
    "        ner_middle = item[person_Index+1:origin_Index_method1]\n",
    "        text_middle = text[person_Index+1:origin_Index_method1]\n",
    "\n",
    "        #Parenthesis test\n",
    "        try:\n",
    "            par1_Index = text_middle.index('(')\n",
    "        except ValueError:\n",
    "            par1_Index = -1 #default\n",
    "\n",
    "        try:\n",
    "            par2_Index = text_middle.index(')')\n",
    "        except ValueError:\n",
    "            par2_Index = -1 #default\n",
    "\n",
    "        #If there are parenthesis\n",
    "        if par1_Index < par2_Index and par2_Index >= 0 and par1_Index >= 0 :\n",
    "            date_par = text_middle[par1_Index+1:par2_Index]\n",
    "            date = str(date_par[0])\n",
    "            if date in ('born','died','before','after','b.'):\n",
    "                 date = str(date_par[1])   \n",
    "            if test_digit(date):\n",
    "                return date\n",
    "            else :\n",
    "                return None\n",
    "        else :\n",
    "            return None"
   ]
  },
  {
   "cell_type": "markdown",
   "metadata": {},
   "source": [
    "#### Date accuracy "
   ]
  },
  {
   "cell_type": "code",
   "execution_count": 355,
   "metadata": {},
   "outputs": [],
   "source": [
    "def date_accuracy(text):\n",
    "    tot = len(re.findall(r\"[0-9]{4,7}\", ' '.join(text)))\n",
    "    try :\n",
    "        date_accuracy = 1/tot *100\n",
    "    except : \n",
    "        date_accuracy = 0\n",
    "    date_accuracy = \"{0:.2f}\".format(date_accuracy)\n",
    "    return date_accuracy"
   ]
  },
  {
   "cell_type": "markdown",
   "metadata": {},
   "source": [
    "### Confidence levels functions"
   ]
  },
  {
   "cell_type": "code",
   "execution_count": 356,
   "metadata": {},
   "outputs": [],
   "source": [
    "def accuracy(text,tags,swiss_cities):\n",
    "    '''\n",
    "    Input : text, tags and the list of swiss cities\n",
    "    Output :  list of accuracy percentage for date, person and origin \n",
    "    Requirements : -\n",
    "    Description : The accuracy or confidence level is measured based on the amount of possibly contradictory information in the text\n",
    "    '''\n",
    "    try :    \n",
    "        acc_person = \"{0:.2f}\".format(1/tags.count('PERSON') * 100)\n",
    "    except: \n",
    "        acc_person = 100\n",
    "    \n",
    "    acc_origin = origin_confidence(text,swiss_cities)\n",
    "    \n",
    "    acc_date = date_accuracy(text)\n",
    "    \n",
    "    return [acc_date,acc_person,acc_origin]"
   ]
  },
  {
   "cell_type": "markdown",
   "metadata": {},
   "source": [
    "## Main call"
   ]
  },
  {
   "cell_type": "markdown",
   "metadata": {},
   "source": [
    "The functions created above are called on each item retrieved from the primary sources and saved as dictionaries."
   ]
  },
  {
   "cell_type": "code",
   "execution_count": 357,
   "metadata": {},
   "outputs": [],
   "source": [
    "#empty list \n",
    "jsonList= []\n",
    "\n",
    "#counters\n",
    "i = 0\n",
    "s1 = 0\n",
    "nothing = 0 \n",
    "disordered = 0\n",
    "no_person = 0\n",
    "no_location = 0\n",
    "\n",
    "#main loop on items\n",
    "for item in text_items:\n",
    "        \n",
    "        #NER\n",
    "        nerItem = ner_text(item)\n",
    "        text,tags = text_and_tags(nerItem)\n",
    "        \n",
    "        #Indices retrieval for schema identifications\n",
    "        personIndex = person_index(text,tags)\n",
    "        originIndex,origin = origin_location_index(text,tags) \n",
    "\n",
    "        #If no person and no location \n",
    "        if (personIndex < 0) and (originIndex <0):\n",
    "            #print('There isnt any information to retrieve')\n",
    "            nothing +=1\n",
    "            continue\n",
    "            \n",
    "        #If no person but location \n",
    "        if (personIndex < 0) and (originIndex >0):\n",
    "            #print('There isnt any information to retrieve')\n",
    "            no_person +=1\n",
    "            continue\n",
    "            \n",
    "        #If person and location but wrong order\n",
    "        if (personIndex > 0) and (originIndex >0) and (personIndex > originIndex) :\n",
    "            #print('The information arent following the expected schemas')\n",
    "            disordered +=1\n",
    "            continue\n",
    "            \n",
    "        #From here on there is a person thus we can retrieve some information\n",
    "        \n",
    "        # PERSON retrieval \n",
    "        person = text[personIndex]\n",
    "        \n",
    "        # COLONIAL LOCATION retrieval \n",
    "        colonialLoc = colonial_location(text,tocList)\n",
    "        \n",
    "        # FULL ENTRY  without location index\n",
    "        item_clean = item[0:(len(item)-3)]    \n",
    "        \n",
    "        # ACTIVITIES retrieval\n",
    "        activities = colonial_activites(text)\n",
    "        \n",
    "        \n",
    "        # ORIGIN retrieval \n",
    "        origin = clean_origin(origin)\n",
    "        \n",
    "        # DATE retrieval \n",
    "        # For the date the schema is differente\n",
    "            \n",
    "        #If person and no location \n",
    "        if (personIndex > 0) and (originIndex <0):\n",
    "            #we look for date in the 15 next wwords\n",
    "            dummy_origin_index = personIndex + 15\n",
    "            \n",
    "            #Retrieve date according to schema1 or schema2 if no date then None\n",
    "            dateValue = date(text,tags,personIndex,dummy_origin_index)\n",
    "            \n",
    "            if ('Geneva' in text) :\n",
    "                origin = 'Geneva'\n",
    "                \n",
    "            if ('Neuchâtel' in text) :\n",
    "                origin = 'Neuchâtel'\n",
    "            no_location +=1\n",
    "                \n",
    "     \n",
    "        #If SCHEMAS I or II (person and location and right order)\n",
    "        if (personIndex > 0) and (originIndex >0)  and (personIndex < originIndex) :\n",
    "\n",
    "                # Retrieve date according to schema1 or schema2 if no date then None\n",
    "                dateValue = date(text,tags,personIndex,originIndex)\n",
    "\n",
    "\n",
    "        # Calculate accuracy \n",
    "        [acc_date,acc_person,acc_origin] = accuracy(text,tags,swiss_cities)\n",
    "\n",
    "        if dateValue == None:\n",
    "            acc_date = 0\n",
    "            \n",
    "        # Create a JSON dictionary\n",
    "        item_JSON = {\n",
    "            'person' : person,\n",
    "            'date': dateValue,\n",
    "            'origin': origin,\n",
    "            'colonial_Location': colonialLoc,\n",
    "            'confidence_date':acc_date,\n",
    "            'confidence_person':acc_person,\n",
    "            'confidence_origin':acc_origin,\n",
    "            'activities': activities,\n",
    "            'whole_entry': item_clean\n",
    "            #'field':NA\n",
    "        }\n",
    "        jsonList.append(item_JSON)\n",
    "        \n",
    "       \n",
    "            \n",
    "        if (origin_info[0] == -1) : \n",
    "            origin_iter = origin_iter +1\n",
    "            #print('This item doesnt follow one of the two scheme because it doesnt have a person or location in the right order')\n",
    "        #print(item_JSON)"
   ]
  },
  {
   "cell_type": "code",
   "execution_count": 358,
   "metadata": {},
   "outputs": [
    {
     "name": "stdout",
     "output_type": "stream",
     "text": [
      "There are 464 text items from the division of the initial page\n",
      "There are 347 entries after extraction of text of interest\n"
     ]
    }
   ],
   "source": [
    "print(f'There are {len(text_items)} text items from the division of the initial page')\n",
    "print(f'There are {len(jsonList)} entries after extraction of text of interest')"
   ]
  },
  {
   "cell_type": "code",
   "execution_count": 359,
   "metadata": {},
   "outputs": [
    {
     "name": "stdout",
     "output_type": "stream",
     "text": [
      "There area 16 entries where neither the person nor the location could be defined.\n",
      "There are 49 entries with no person defined.\n",
      "There are 52 entries with person and location in the wrong order.\n",
      "There are 52 entries with no location defined.\n",
      "\n"
     ]
    }
   ],
   "source": [
    "print(f'There area {nothing} entries where neither the person nor the location could be defined.\\nThere are {no_person} entries with no person defined.\\nThere are {disordered} entries with person and location in the wrong order.\\nThere are {no_location} entries with no location defined.\\n')"
   ]
  },
  {
   "cell_type": "code",
   "execution_count": 360,
   "metadata": {},
   "outputs": [
    {
     "data": {
      "text/plain": [
       "{'person': 'François Aimé Louis Dumoulin',\n",
       " 'date': '1753-1834',\n",
       " 'origin': 'Vevey',\n",
       " 'colonial_Location': 'Grenada',\n",
       " 'confidence_date': '33.33',\n",
       " 'confidence_person': '100.00',\n",
       " 'confidence_origin': '100.00',\n",
       " 'activities': ('trading',),\n",
       " 'whole_entry': '=> François Aimé Louis Dumoulin (1753-1834) from Vevey (Canton of Berne/Vaud, W Switzerland) was a merchant who went to England in 1772 and from there to Grenada, where he painted and produced plans in the service of the governor. '}"
      ]
     },
     "execution_count": 360,
     "metadata": {},
     "output_type": "execute_result"
    }
   ],
   "source": [
    "#example\n",
    "jsonList[15]"
   ]
  },
  {
   "cell_type": "markdown",
   "metadata": {},
   "source": [
    "# Dump JSON with person, date, origin, colonial location, activities and accuracies.    "
   ]
  },
  {
   "cell_type": "code",
   "execution_count": 362,
   "metadata": {},
   "outputs": [],
   "source": [
    "a_file = open(\"./generated_data/from_caricom.json\", \"w\")\n",
    "a_file = json.dump(jsonList, a_file) "
   ]
  },
  {
   "cell_type": "code",
   "execution_count": null,
   "metadata": {},
   "outputs": [],
   "source": []
  }
 ],
 "metadata": {
  "kernelspec": {
   "display_name": "Python 3",
   "language": "python",
   "name": "python3"
  },
  "language_info": {
   "codemirror_mode": {
    "name": "ipython",
    "version": 3
   },
   "file_extension": ".py",
   "mimetype": "text/x-python",
   "name": "python",
   "nbconvert_exporter": "python",
   "pygments_lexer": "ipython3",
   "version": "3.8.5"
  }
 },
 "nbformat": 4,
 "nbformat_minor": 4
}
