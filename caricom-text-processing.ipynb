{
 "cells": [
  {
   "cell_type": "markdown",
   "metadata": {},
   "source": [
    "## Header \n",
    "Author : Amina Matt and Yichen Wang  \n",
    "Date created : 14.10.2021  \n",
    "Date last modified : 14.10.2021  \n",
    "Python version : 3.8  \n",
    "Description : Text processing of the CARICOM Compilation Archive (CCA) https://louverture.ch/cca/ \n",
    "\n"
   ]
  },
  {
   "cell_type": "markdown",
   "metadata": {},
   "source": [
    "The Natural Language Toolkit is a library for natural language programming in Python "
   ]
  },
  {
   "cell_type": "code",
   "execution_count": 1,
   "metadata": {},
   "outputs": [],
   "source": [
    "# -*- coding: utf-8 -*-\n",
    "\n",
    "import nltk \n",
    "#nltk.download('punkt')\n",
    "#nltk.download('averaged_perceptron_tagger')\n",
    "import pandas as pd\n",
    "from nltk import pos_tag\n",
    "from nltk.tag import StanfordNERTagger\n",
    "from nltk.tokenize import word_tokenize\n",
    "from nltk.chunk import conlltags2tree\n",
    "from nltk.tree import Tree\n"
   ]
  },
  {
   "cell_type": "markdown",
   "metadata": {},
   "source": [
    "## Named Entities Recognition with NER Stanford "
   ]
  },
  {
   "cell_type": "code",
   "execution_count": 2,
   "metadata": {},
   "outputs": [
    {
     "name": "stdout",
     "output_type": "stream",
     "text": [
      "[('=', 'O'), ('>', 'O'), ('Hans', 'PERSON'), ('Conrad', 'PERSON'), ('Hottinger', 'PERSON'), ('’', 'O'), ('s', 'O'), ('business', 'O'), ('partner', 'O'), ('was', 'O'), ('Denis', 'ORGANIZATION'), ('de', 'ORGANIZATION'), ('Rougemont', 'ORGANIZATION'), ('(', 'O'), ('1759\\xad–1839', 'O'), (')', 'O'), ('from', 'O'), ('Saint-Aubin', 'O'), ('and', 'O'), ('Neuchâtel', 'ORGANIZATION'), (',', 'O'), ('banker', 'O'), (',', 'O'), ('Prussian', 'O'), ('financial', 'O'), ('agent', 'O'), (',', 'O'), ('major', 'O'), ('Banque', 'O'), ('de', 'O'), ('France', 'LOCATION'), ('shareholder', 'O'), ('and', 'O'), ('real', 'O'), ('estate', 'O'), ('owner', 'O'), ('in', 'O'), ('Paris', 'LOCATION'), ('and', 'O'), ('Berne', 'LOCATION'), ('.', 'O'), ('He', 'O'), ('bought', 'O'), ('the', 'O'), ('Hôtel', 'ORGANIZATION'), ('DuPeyrou', 'ORGANIZATION'), ('in', 'O'), ('Neuchâtel', 'O'), ('in', 'O'), ('1816', 'DATE'), ('.', 'O'), ('In', 'O'), ('1837', 'DATE'), (',', 'O'), ('his', 'O'), ('son', 'O'), ('Abraham', 'PERSON'), ('Denis', 'PERSON'), ('Alfred', 'PERSON'), ('de', 'PERSON'), ('Rougemont', 'PERSON'), ('(', 'O'), ('1802–1868', 'O'), (')', 'O'), (',', 'O'), ('who', 'O'), ('was', 'O'), ('a', 'O'), ('good', 'O'), ('friend', 'O'), ('of', 'O'), ('Heinrich', 'PERSON'), ('Escher', 'PERSON'), ('’', 'O'), ('s', 'O'), ('(', 'O'), ('1776–1853', 'O'), (')', 'O'), (',', 'O'), ('bought', 'O'), ('Schadau', 'ORGANIZATION'), ('Castle', 'ORGANIZATION'), ('and', 'O'), ('the', 'O'), ('adjoining', 'O'), ('large', 'O'), ('estate', 'O'), ('in', 'O'), ('Thun', 'O'), ('BE', 'O'), ('and', 'O'), ('had', 'O'), ('the', 'O'), ('Castle', 'ORGANIZATION'), ('rebuilt', 'O'), ('in', 'O'), ('a', 'O'), ('style', 'O'), ('inspired', 'O'), ('by', 'O'), ('Tudor', 'ORGANIZATION'), ('gothic', 'ORGANIZATION'), ('and', 'O'), ('Loire', 'LOCATION'), ('castles', 'O'), ('.', 'O'), ('His', 'O'), ('other', 'O'), ('son', 'O'), (',', 'O'), ('Rodolphe', 'PERSON'), ('Emile', 'PERSON'), ('Adolphe', 'PERSON'), ('de', 'O'), ('Rougement', 'O'), ('(', 'O'), ('1805–1844', 'O'), (')', 'O'), (',', 'O'), ('had', 'O'), ('bought', 'O'), ('castle', 'O'), ('Chartreuse', 'O'), ('on', 'O'), ('the', 'O'), ('opposite', 'O'), ('bank', 'O'), ('of', 'O'), ('the', 'O'), ('Aare', 'LOCATION'), ('river', 'O'), ('in', 'O'), ('Thun', 'LOCATION'), ('in', 'O'), ('1831', 'DATE'), ('.', 'O'), ('The', 'O'), ('de', 'O'), ('Rougement', 'O'), ('family', 'O'), ('were', 'O'), ('related', 'O'), ('to', 'O'), ('the', 'O'), ('de', 'O'), ('Pourtalès', 'O'), ('and', 'O'), ('the', 'O'), ('de', 'O'), ('Pury', 'O'), ('families', 'O'), ('of', 'O'), ('Neuchâtel', 'O'), ('with', 'O'), ('their', 'O'), ('close', 'O'), ('ties', 'O'), ('to', 'O'), ('the', 'O'), ('transatlantic', 'O'), ('slavery', 'O'), ('system', 'O'), ('.', 'O'), ('1.2', 'O'), ('Bahamas', 'LOCATION')]\n"
     ]
    }
   ],
   "source": [
    "#Stanford NER \n",
    "NER_FOLDER = './NER-Standford/stanford-ner-2020-11-17'\n",
    "CLASSIFIER_PATH = NER_FOLDER+'/classifiers/'\n",
    "JAR_PATH = NER_FOLDER+'/stanford-ner.jar'\n",
    "\n",
    "#classifiers\n",
    "classifier_3 = 'english.all.3class.distsim.crf.ser.gz'#3 class model for recognizing locations, persons, and organizations\n",
    "classifier_4 = 'english.conll.4class.distsim.crf.ser.gz'#4 class model for recognizing locations, persons, organizations, and miscellaneous entities\n",
    "classifier_7 = 'english.muc.7class.distsim.crf.ser.gz' #7 class model for recognizing locations, persons, organizations, times, money, percents, and dates\n",
    "\n",
    "st = StanfordNERTagger(CLASSIFIER_PATH+classifier_7, JAR_PATH, encoding='utf-8')\n",
    "\n",
    "#Text retrieving\n",
    "DATA_FOLDER = './data/'\n",
    "caricom_sample = DATA_FOLDER +'Caricom_Archive_Sample.txt'\n",
    "caricom = DATA_FOLDER +'Caricom_Archive.txt'\n",
    "\n",
    "#Extracting named-entities\n",
    "text = open(caricom_sample, 'r').read()\n",
    "tokenized_text = word_tokenize(text)\n",
    "classified_text = st.tag(tokenized_text)\n",
    "\n",
    "print(classified_text)"
   ]
  },
  {
   "cell_type": "markdown",
   "metadata": {},
   "source": [
    "At this point the whole text is tagged. However the entities aren't grouped together. For example, a person full name is separate into two tuples."
   ]
  },
  {
   "cell_type": "markdown",
   "metadata": {},
   "source": [
    "## BIO tagging for readable Named Entities (i.e. regrouped NE)"
   ]
  },
  {
   "cell_type": "markdown",
   "metadata": {},
   "source": [
    "[BIO](https://en.wikipedia.org/wiki/Inside–outside–beginning_(tagging)) tags are a way to regroup tokens, to make the output more readable. \n",
    "A person name with first and last name should be regroup by assigning  \n",
    " -B to the beginning of named entities  \n",
    " -I assigned to inside  \n",
    " -O assigned to other  \n",
    "This is done by checking the tokens just before and after the one of interest."
   ]
  },
  {
   "cell_type": "code",
   "execution_count": 3,
   "metadata": {},
   "outputs": [],
   "source": [
    "# Function imported from \n",
    "# https://pythonprogramming.net/using-bio-tags-create-named-entity-lists/?completed=/testing-stanford-ner-taggers-for-speed/\n",
    "\n",
    "# Tag tokens with standard NLP BIO tags\n",
    "def bio_tagger(ne_tagged):\n",
    "\t\tbio_tagged = [] #empty list\n",
    "\t\tprev_tag = \"O\" #starting with a O tag\n",
    "\t\tfor token, tag in ne_tagged:\n",
    "\t\t\tif tag == \"O\": #O\n",
    "\t\t\t\tbio_tagged.append((token, tag))\n",
    "\t\t\t\tprev_tag = tag\n",
    "\t\t\t\tcontinue\n",
    "\t\t\tif tag != \"O\" and prev_tag == \"O\": # Begin NE\n",
    "\t\t\t\tbio_tagged.append((token, \"B-\"+tag))\n",
    "\t\t\t\tprev_tag = tag\n",
    "\t\t\telif prev_tag != \"O\" and prev_tag == tag: # Inside NE\n",
    "\t\t\t\tbio_tagged.append((token, \"I-\"+tag))\n",
    "\t\t\t\tprev_tag = tag\n",
    "\t\t\telif prev_tag != \"O\" and prev_tag != tag: # Adjacent NE\n",
    "\t\t\t\tbio_tagged.append((token, \"B-\"+tag))\n",
    "\t\t\t\tprev_tag = tag\n",
    "\t\treturn bio_tagged"
   ]
  },
  {
   "cell_type": "code",
   "execution_count": 4,
   "metadata": {},
   "outputs": [],
   "source": [
    "bio_text = bio_tagger(classified_text)"
   ]
  },
  {
   "cell_type": "markdown",
   "metadata": {},
   "source": [
    "Using the BIO tags we can recreate a tokens list with regrouped/readable named entities. "
   ]
  },
  {
   "cell_type": "code",
   "execution_count": 5,
   "metadata": {},
   "outputs": [],
   "source": [
    "# Function imported from \n",
    "# https://pythonprogramming.net/using-bio-tags-create-named-entity-lists/?completed=/testing-stanford-ner-taggers-for-speed/\n",
    "\n",
    "# Create tree       \n",
    "def stanford_tree(bio_tagged):\n",
    "\ttokens, ne_tags = zip(*bio_tagged)\n",
    "\tpos_tags = [pos for token, pos in pos_tag(tokens)]\n",
    "\n",
    "\tconlltags = [(token, pos, ne) for token, pos, ne in zip(tokens, pos_tags, ne_tags)]\n",
    "\tne_tree = conlltags2tree(conlltags) #from BIO to tree format\n",
    "\treturn ne_tree"
   ]
  },
  {
   "cell_type": "code",
   "execution_count": 6,
   "metadata": {},
   "outputs": [],
   "source": [
    "tree_text = stanford_tree(bio_text)"
   ]
  },
  {
   "cell_type": "code",
   "execution_count": 7,
   "metadata": {},
   "outputs": [],
   "source": [
    "# Function imported from \n",
    "# https://pythonprogramming.net/using-bio-tags-create-named-entity-lists/?completed=/testing-stanford-ner-taggers-for-speed/\n",
    "\n",
    "# Parse named entities from tree\n",
    "def structure_ne(ne_tree):\n",
    "\tne = []\n",
    "\tfor subtree in ne_tree:\n",
    "\t\tif type(subtree) == Tree: # If subtree is a noun chunk, i.e. NE != \"O\"\n",
    "\t\t\tne_label = subtree.label()\n",
    "\t\t\tne_string = \" \".join([token for token, pos in subtree.leaves()])\n",
    "\t\t\tne.append((ne_string, ne_label))\n",
    "\treturn ne"
   ]
  },
  {
   "cell_type": "code",
   "execution_count": 8,
   "metadata": {},
   "outputs": [
    {
     "data": {
      "text/plain": [
       "[('Hans Conrad Hottinger', 'PERSON'),\n",
       " ('Denis de Rougemont', 'ORGANIZATION'),\n",
       " ('Neuchâtel', 'ORGANIZATION'),\n",
       " ('France', 'LOCATION'),\n",
       " ('Paris', 'LOCATION'),\n",
       " ('Berne', 'LOCATION'),\n",
       " ('Hôtel DuPeyrou', 'ORGANIZATION'),\n",
       " ('1816', 'DATE'),\n",
       " ('1837', 'DATE'),\n",
       " ('Abraham Denis Alfred de Rougemont', 'PERSON'),\n",
       " ('Heinrich Escher', 'PERSON'),\n",
       " ('Schadau Castle', 'ORGANIZATION'),\n",
       " ('Castle', 'ORGANIZATION'),\n",
       " ('Tudor gothic', 'ORGANIZATION'),\n",
       " ('Loire', 'LOCATION'),\n",
       " ('Rodolphe Emile Adolphe', 'PERSON'),\n",
       " ('Aare', 'LOCATION'),\n",
       " ('Thun', 'LOCATION'),\n",
       " ('1831', 'DATE'),\n",
       " ('Bahamas', 'LOCATION')]"
      ]
     },
     "execution_count": 8,
     "metadata": {},
     "output_type": "execute_result"
    }
   ],
   "source": [
    "clean_ne = structure_ne(tree_text)\n",
    "clean_ne"
   ]
  },
  {
   "cell_type": "markdown",
   "metadata": {},
   "source": [
    "# From NE tree to JSON"
   ]
  },
  {
   "cell_type": "markdown",
   "metadata": {},
   "source": [
    "The structure NE list for each text is transformed into an entry in a dataframe. The goal is to have for each sample of text an entry with the *relevant* informations.  \n",
    "The difficult part is to sort the relevant informations. Which of the persons is the one of interest? Which location is the location where the organization or the person was involved? Which dates are the dates of interest? \n",
    "Here we deal only with the transformation."
   ]
  },
  {
   "cell_type": "markdown",
   "metadata": {},
   "source": [
    "## Use the *name* (date) from *origin* scheme to retrieve JSON names, origins and dates attributes in the text item."
   ]
  },
  {
   "cell_type": "markdown",
   "metadata": {},
   "source": [
    "## Use section name to retrieve JSON colonial location attribute"
   ]
  },
  {
   "cell_type": "markdown",
   "metadata": {},
   "source": [
    "To do "
   ]
  },
  {
   "cell_type": "markdown",
   "metadata": {},
   "source": [
    "## Use predefined categories to retrieve the JSON type attribute "
   ]
  },
  {
   "cell_type": "markdown",
   "metadata": {},
   "source": [
    "To do "
   ]
  },
  {
   "cell_type": "markdown",
   "metadata": {},
   "source": [
    "# Scratch"
   ]
  },
  {
   "cell_type": "code",
   "execution_count": null,
   "metadata": {},
   "outputs": [],
   "source": []
  },
  {
   "cell_type": "markdown",
   "metadata": {},
   "source": [
    "What about multiple persons in a paragraph?\n",
    "    -> one ID per person with same organization groups etc..."
   ]
  },
  {
   "cell_type": "code",
   "execution_count": null,
   "metadata": {},
   "outputs": [],
   "source": [
    "dataSet = pd.DataFrame({\n",
    "                     'id':[],\n",
    "                     'person':[],\n",
    "                     'location':[],\n",
    "                     'period':[],})\n",
    "dataSet."
   ]
  },
  {
   "cell_type": "code",
   "execution_count": null,
   "metadata": {},
   "outputs": [],
   "source": [
    "person_list = []\n",
    "\n",
    "for ent in tokens.ents:\n",
    "    if ent.label_ == 'PERSON':\n",
    "        person_list.append(ent.text)\n",
    "        \n",
    "person_counts = Counter(person_list).most_common(20)\n",
    "df_person = pd.DataFrame(person_counts, columns =['text', 'count'])"
   ]
  },
  {
   "cell_type": "code",
   "execution_count": null,
   "metadata": {},
   "outputs": [],
   "source": [
    "len(classified_text)"
   ]
  },
  {
   "cell_type": "code",
   "execution_count": null,
   "metadata": {},
   "outputs": [],
   "source": [
    "json"
   ]
  },
  {
   "cell_type": "code",
   "execution_count": null,
   "metadata": {},
   "outputs": [],
   "source": []
  }
 ],
 "metadata": {
  "kernelspec": {
   "display_name": "Python 3",
   "language": "python",
   "name": "python3"
  },
  "language_info": {
   "codemirror_mode": {
    "name": "ipython",
    "version": 3
   },
   "file_extension": ".py",
   "mimetype": "text/x-python",
   "name": "python",
   "nbconvert_exporter": "python",
   "pygments_lexer": "ipython3",
   "version": "3.8.5"
  }
 },
 "nbformat": 4,
 "nbformat_minor": 4
}
