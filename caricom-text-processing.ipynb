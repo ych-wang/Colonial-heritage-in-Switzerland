{
 "cells": [
  {
   "cell_type": "markdown",
   "metadata": {},
   "source": [
    "## Header \n",
    "Author : Amina Matt and Yichen Wang  \n",
    "Date created : 14.10.2021  \n",
    "Date last modified : 14.10.2021  \n",
    "Python version : 3.8  \n",
    "Description : Text processing of the CARICOM Compilation Archive (CCA) https://louverture.ch/cca/ \n",
    "\n"
   ]
  },
  {
   "cell_type": "markdown",
   "metadata": {},
   "source": [
    "The Natural Language Toolkit is a library for natural language programming in Python "
   ]
  },
  {
   "cell_type": "code",
   "execution_count": 2,
   "metadata": {},
   "outputs": [],
   "source": [
    "# -*- coding: utf-8 -*-\n",
    "\n",
    "import nltk \n",
    "#nltk.download('punkt')\n",
    "#nltk.download('averaged_perceptron_tagger')\n",
    "import pandas as pd\n",
    "from nltk import pos_tag\n",
    "from nltk.tag import StanfordNERTagger\n",
    "from nltk.tokenize import word_tokenize\n",
    "from nltk.chunk import conlltags2tree\n",
    "from nltk.tree import Tree\n"
   ]
  },
  {
   "cell_type": "markdown",
   "metadata": {},
   "source": [
    "## Named Entities Recognition with NER Stanford "
   ]
  },
  {
   "cell_type": "code",
   "execution_count": 3,
   "metadata": {},
   "outputs": [
    {
     "name": "stdout",
     "output_type": "stream",
     "text": [
      "[('=', 'O'), ('>', 'O'), ('Hans', 'PERSON'), ('Conrad', 'PERSON'), ('Hottinger', 'PERSON'), ('’', 'O'), ('s', 'O'), ('business', 'O'), ('partner', 'O'), ('was', 'O'), ('Denis', 'ORGANIZATION'), ('de', 'ORGANIZATION'), ('Rougemont', 'ORGANIZATION'), ('(', 'O'), ('1759\\xad–1839', 'O'), (')', 'O'), ('from', 'O'), ('Saint-Aubin', 'O'), ('and', 'O'), ('Neuchâtel', 'ORGANIZATION'), (',', 'O'), ('banker', 'O'), (',', 'O'), ('Prussian', 'O'), ('financial', 'O'), ('agent', 'O'), (',', 'O'), ('major', 'O'), ('Banque', 'O'), ('de', 'O'), ('France', 'LOCATION'), ('shareholder', 'O'), ('and', 'O'), ('real', 'O'), ('estate', 'O'), ('owner', 'O'), ('in', 'O'), ('Paris', 'LOCATION'), ('and', 'O'), ('Berne', 'LOCATION'), ('.', 'O'), ('He', 'O'), ('bought', 'O'), ('the', 'O'), ('Hôtel', 'ORGANIZATION'), ('DuPeyrou', 'ORGANIZATION'), ('in', 'O'), ('Neuchâtel', 'O'), ('in', 'O'), ('1816', 'DATE'), ('.', 'O'), ('In', 'O'), ('1837', 'DATE'), (',', 'O'), ('his', 'O'), ('son', 'O'), ('Abraham', 'PERSON'), ('Denis', 'PERSON'), ('Alfred', 'PERSON'), ('de', 'PERSON'), ('Rougemont', 'PERSON'), ('(', 'O'), ('1802–1868', 'O'), (')', 'O'), (',', 'O'), ('who', 'O'), ('was', 'O'), ('a', 'O'), ('good', 'O'), ('friend', 'O'), ('of', 'O'), ('Heinrich', 'PERSON'), ('Escher', 'PERSON'), ('’', 'O'), ('s', 'O'), ('(', 'O'), ('1776–1853', 'O'), (')', 'O'), (',', 'O'), ('bought', 'O'), ('Schadau', 'ORGANIZATION'), ('Castle', 'ORGANIZATION'), ('and', 'O'), ('the', 'O'), ('adjoining', 'O'), ('large', 'O'), ('estate', 'O'), ('in', 'O'), ('Thun', 'O'), ('BE', 'O'), ('and', 'O'), ('had', 'O'), ('the', 'O'), ('Castle', 'ORGANIZATION'), ('rebuilt', 'O'), ('in', 'O'), ('a', 'O'), ('style', 'O'), ('inspired', 'O'), ('by', 'O'), ('Tudor', 'ORGANIZATION'), ('gothic', 'ORGANIZATION'), ('and', 'O'), ('Loire', 'LOCATION'), ('castles', 'O'), ('.', 'O'), ('His', 'O'), ('other', 'O'), ('son', 'O'), (',', 'O'), ('Rodolphe', 'PERSON'), ('Emile', 'PERSON'), ('Adolphe', 'PERSON'), ('de', 'O'), ('Rougement', 'O'), ('(', 'O'), ('1805–1844', 'O'), (')', 'O'), (',', 'O'), ('had', 'O'), ('bought', 'O'), ('castle', 'O'), ('Chartreuse', 'O'), ('on', 'O'), ('the', 'O'), ('opposite', 'O'), ('bank', 'O'), ('of', 'O'), ('the', 'O'), ('Aare', 'LOCATION'), ('river', 'O'), ('in', 'O'), ('Thun', 'LOCATION'), ('in', 'O'), ('1831', 'DATE'), ('.', 'O'), ('The', 'O'), ('de', 'O'), ('Rougement', 'O'), ('family', 'O'), ('were', 'O'), ('related', 'O'), ('to', 'O'), ('the', 'O'), ('de', 'O'), ('Pourtalès', 'O'), ('and', 'O'), ('the', 'O'), ('de', 'O'), ('Pury', 'O'), ('families', 'O'), ('of', 'O'), ('Neuchâtel', 'O'), ('with', 'O'), ('their', 'O'), ('close', 'O'), ('ties', 'O'), ('to', 'O'), ('the', 'O'), ('transatlantic', 'O'), ('slavery', 'O'), ('system', 'O'), ('.', 'O'), ('1.2', 'O'), ('Bahamas', 'LOCATION')]\n"
     ]
    }
   ],
   "source": [
    "#Stanford NER \n",
    "NER_FOLDER = './NER-Standford/stanford-ner-2020-11-17'\n",
    "CLASSIFIER_PATH = NER_FOLDER+'/classifiers/'\n",
    "JAR_PATH = NER_FOLDER+'/stanford-ner.jar'\n",
    "\n",
    "#classifiers\n",
    "classifier_3 = 'english.all.3class.distsim.crf.ser.gz'#3 class model for recognizing locations, persons, and organizations\n",
    "classifier_4 = 'english.conll.4class.distsim.crf.ser.gz'#4 class model for recognizing locations, persons, organizations, and miscellaneous entities\n",
    "classifier_7 = 'english.muc.7class.distsim.crf.ser.gz' #7 class model for recognizing locations, persons, organizations, times, money, percents, and dates\n",
    "\n",
    "st = StanfordNERTagger(CLASSIFIER_PATH+classifier_7, JAR_PATH, encoding='utf-8')\n",
    "\n",
    "#Text retrieving\n",
    "DATA_FOLDER = './data/'\n",
    "caricom_sample = DATA_FOLDER +'Caricom_Archive_Sample.txt'\n",
    "caricom = DATA_FOLDER +'Caricom_Archive.txt'\n",
    "\n",
    "#Extracting named-entities\n",
    "text = open(caricom_sample, 'r').read()\n",
    "tokenized_text = word_tokenize(text)\n",
    "classified_text = st.tag(tokenized_text)\n",
    "\n",
    "print(classified_text)"
   ]
  },
  {
   "cell_type": "markdown",
   "metadata": {},
   "source": [
    "At this point the whole text is tagged. However the entities aren't grouped together. For example, a person full name is separate into two tuples."
   ]
  },
  {
   "cell_type": "markdown",
   "metadata": {},
   "source": [
    "## BIO tagging for readable Named Entities (i.e. regrouped NE)"
   ]
  },
  {
   "cell_type": "markdown",
   "metadata": {},
   "source": [
    "[BIO](https://en.wikipedia.org/wiki/Inside–outside–beginning_(tagging)) tags are a way to regroup tokens, to make the output more readable. \n",
    "A person name with first and last name should be regroup by assigning  \n",
    " -B to the beginning of named entities  \n",
    " -I assigned to inside  \n",
    " -O assigned to other  \n",
    "This is done by checking the tokens just before and after the one of interest."
   ]
  },
  {
   "cell_type": "code",
   "execution_count": 4,
   "metadata": {},
   "outputs": [],
   "source": [
    "# Function imported from \n",
    "# https://pythonprogramming.net/using-bio-tags-create-named-entity-lists/?completed=/testing-stanford-ner-taggers-for-speed/\n",
    "\n",
    "# Tag tokens with standard NLP BIO tags\n",
    "def bio_tagger(ne_tagged):\n",
    "\t\tbio_tagged = [] #empty list\n",
    "\t\tprev_tag = \"O\" #starting with a O tag\n",
    "\t\tfor token, tag in ne_tagged:\n",
    "\t\t\tif tag == \"O\": #O\n",
    "\t\t\t\tbio_tagged.append((token, tag))\n",
    "\t\t\t\tprev_tag = tag\n",
    "\t\t\t\tcontinue\n",
    "\t\t\tif tag != \"O\" and prev_tag == \"O\": # Begin NE\n",
    "\t\t\t\tbio_tagged.append((token, \"B-\"+tag))\n",
    "\t\t\t\tprev_tag = tag\n",
    "\t\t\telif prev_tag != \"O\" and prev_tag == tag: # Inside NE\n",
    "\t\t\t\tbio_tagged.append((token, \"I-\"+tag))\n",
    "\t\t\t\tprev_tag = tag\n",
    "\t\t\telif prev_tag != \"O\" and prev_tag != tag: # Adjacent NE\n",
    "\t\t\t\tbio_tagged.append((token, \"B-\"+tag))\n",
    "\t\t\t\tprev_tag = tag\n",
    "\t\treturn bio_tagged"
   ]
  },
  {
   "cell_type": "code",
   "execution_count": 5,
   "metadata": {},
   "outputs": [
    {
     "data": {
      "text/plain": [
       "[('=', 'O'),\n",
       " ('>', 'O'),\n",
       " ('Hans', 'B-PERSON'),\n",
       " ('Conrad', 'I-PERSON'),\n",
       " ('Hottinger', 'I-PERSON'),\n",
       " ('’', 'O'),\n",
       " ('s', 'O'),\n",
       " ('business', 'O'),\n",
       " ('partner', 'O'),\n",
       " ('was', 'O'),\n",
       " ('Denis', 'B-ORGANIZATION'),\n",
       " ('de', 'I-ORGANIZATION'),\n",
       " ('Rougemont', 'I-ORGANIZATION'),\n",
       " ('(', 'O'),\n",
       " ('1759\\xad–1839', 'O'),\n",
       " (')', 'O'),\n",
       " ('from', 'O'),\n",
       " ('Saint-Aubin', 'O'),\n",
       " ('and', 'O'),\n",
       " ('Neuchâtel', 'B-ORGANIZATION'),\n",
       " (',', 'O'),\n",
       " ('banker', 'O'),\n",
       " (',', 'O'),\n",
       " ('Prussian', 'O'),\n",
       " ('financial', 'O'),\n",
       " ('agent', 'O'),\n",
       " (',', 'O'),\n",
       " ('major', 'O'),\n",
       " ('Banque', 'O'),\n",
       " ('de', 'O'),\n",
       " ('France', 'B-LOCATION'),\n",
       " ('shareholder', 'O'),\n",
       " ('and', 'O'),\n",
       " ('real', 'O'),\n",
       " ('estate', 'O'),\n",
       " ('owner', 'O'),\n",
       " ('in', 'O'),\n",
       " ('Paris', 'B-LOCATION'),\n",
       " ('and', 'O'),\n",
       " ('Berne', 'B-LOCATION'),\n",
       " ('.', 'O'),\n",
       " ('He', 'O'),\n",
       " ('bought', 'O'),\n",
       " ('the', 'O'),\n",
       " ('Hôtel', 'B-ORGANIZATION'),\n",
       " ('DuPeyrou', 'I-ORGANIZATION'),\n",
       " ('in', 'O'),\n",
       " ('Neuchâtel', 'O'),\n",
       " ('in', 'O'),\n",
       " ('1816', 'B-DATE'),\n",
       " ('.', 'O'),\n",
       " ('In', 'O'),\n",
       " ('1837', 'B-DATE'),\n",
       " (',', 'O'),\n",
       " ('his', 'O'),\n",
       " ('son', 'O'),\n",
       " ('Abraham', 'B-PERSON'),\n",
       " ('Denis', 'I-PERSON'),\n",
       " ('Alfred', 'I-PERSON'),\n",
       " ('de', 'I-PERSON'),\n",
       " ('Rougemont', 'I-PERSON'),\n",
       " ('(', 'O'),\n",
       " ('1802–1868', 'O'),\n",
       " (')', 'O'),\n",
       " (',', 'O'),\n",
       " ('who', 'O'),\n",
       " ('was', 'O'),\n",
       " ('a', 'O'),\n",
       " ('good', 'O'),\n",
       " ('friend', 'O'),\n",
       " ('of', 'O'),\n",
       " ('Heinrich', 'B-PERSON'),\n",
       " ('Escher', 'I-PERSON'),\n",
       " ('’', 'O'),\n",
       " ('s', 'O'),\n",
       " ('(', 'O'),\n",
       " ('1776–1853', 'O'),\n",
       " (')', 'O'),\n",
       " (',', 'O'),\n",
       " ('bought', 'O'),\n",
       " ('Schadau', 'B-ORGANIZATION'),\n",
       " ('Castle', 'I-ORGANIZATION'),\n",
       " ('and', 'O'),\n",
       " ('the', 'O'),\n",
       " ('adjoining', 'O'),\n",
       " ('large', 'O'),\n",
       " ('estate', 'O'),\n",
       " ('in', 'O'),\n",
       " ('Thun', 'O'),\n",
       " ('BE', 'O'),\n",
       " ('and', 'O'),\n",
       " ('had', 'O'),\n",
       " ('the', 'O'),\n",
       " ('Castle', 'B-ORGANIZATION'),\n",
       " ('rebuilt', 'O'),\n",
       " ('in', 'O'),\n",
       " ('a', 'O'),\n",
       " ('style', 'O'),\n",
       " ('inspired', 'O'),\n",
       " ('by', 'O'),\n",
       " ('Tudor', 'B-ORGANIZATION'),\n",
       " ('gothic', 'I-ORGANIZATION'),\n",
       " ('and', 'O'),\n",
       " ('Loire', 'B-LOCATION'),\n",
       " ('castles', 'O'),\n",
       " ('.', 'O'),\n",
       " ('His', 'O'),\n",
       " ('other', 'O'),\n",
       " ('son', 'O'),\n",
       " (',', 'O'),\n",
       " ('Rodolphe', 'B-PERSON'),\n",
       " ('Emile', 'I-PERSON'),\n",
       " ('Adolphe', 'I-PERSON'),\n",
       " ('de', 'O'),\n",
       " ('Rougement', 'O'),\n",
       " ('(', 'O'),\n",
       " ('1805–1844', 'O'),\n",
       " (')', 'O'),\n",
       " (',', 'O'),\n",
       " ('had', 'O'),\n",
       " ('bought', 'O'),\n",
       " ('castle', 'O'),\n",
       " ('Chartreuse', 'O'),\n",
       " ('on', 'O'),\n",
       " ('the', 'O'),\n",
       " ('opposite', 'O'),\n",
       " ('bank', 'O'),\n",
       " ('of', 'O'),\n",
       " ('the', 'O'),\n",
       " ('Aare', 'B-LOCATION'),\n",
       " ('river', 'O'),\n",
       " ('in', 'O'),\n",
       " ('Thun', 'B-LOCATION'),\n",
       " ('in', 'O'),\n",
       " ('1831', 'B-DATE'),\n",
       " ('.', 'O'),\n",
       " ('The', 'O'),\n",
       " ('de', 'O'),\n",
       " ('Rougement', 'O'),\n",
       " ('family', 'O'),\n",
       " ('were', 'O'),\n",
       " ('related', 'O'),\n",
       " ('to', 'O'),\n",
       " ('the', 'O'),\n",
       " ('de', 'O'),\n",
       " ('Pourtalès', 'O'),\n",
       " ('and', 'O'),\n",
       " ('the', 'O'),\n",
       " ('de', 'O'),\n",
       " ('Pury', 'O'),\n",
       " ('families', 'O'),\n",
       " ('of', 'O'),\n",
       " ('Neuchâtel', 'O'),\n",
       " ('with', 'O'),\n",
       " ('their', 'O'),\n",
       " ('close', 'O'),\n",
       " ('ties', 'O'),\n",
       " ('to', 'O'),\n",
       " ('the', 'O'),\n",
       " ('transatlantic', 'O'),\n",
       " ('slavery', 'O'),\n",
       " ('system', 'O'),\n",
       " ('.', 'O'),\n",
       " ('1.2', 'O'),\n",
       " ('Bahamas', 'B-LOCATION')]"
      ]
     },
     "execution_count": 5,
     "metadata": {},
     "output_type": "execute_result"
    }
   ],
   "source": [
    "bio_text = bio_tagger(classified_text)\n",
    "bio_text"
   ]
  },
  {
   "cell_type": "markdown",
   "metadata": {},
   "source": [
    "Using the BIO tags we can recreate a tokens list with regrouped/readable named entities. "
   ]
  },
  {
   "cell_type": "code",
   "execution_count": 6,
   "metadata": {},
   "outputs": [],
   "source": [
    "# Function imported from \n",
    "# https://pythonprogramming.net/using-bio-tags-create-named-entity-lists/?completed=/testing-stanford-ner-taggers-for-speed/\n",
    "\n",
    "# Create tree       \n",
    "def stanford_tree(bio_tagged):\n",
    "\ttokens, ne_tags = zip(*bio_tagged)\n",
    "\tpos_tags = [pos for token, pos in pos_tag(tokens)]\n",
    "\n",
    "\tconlltags = [(token, pos, ne) for token, pos, ne in zip(tokens, pos_tags, ne_tags)]\n",
    "\tne_tree = conlltags2tree(conlltags) #from BIO to tree format\n",
    "\treturn ne_tree"
   ]
  },
  {
   "cell_type": "code",
   "execution_count": 7,
   "metadata": {},
   "outputs": [
    {
     "data": {
      "image/png": "[encoded data removed]",
      "text/plain": [
       "Tree('S', [('=', 'JJ'), ('>', 'NN'), Tree('PERSON', [('Hans', 'NNP'), ('Conrad', 'NNP'), ('Hottinger', 'NNP')]), ('’', 'NNP'), ('s', 'NN'), ('business', 'NN'), ('partner', 'NN'), ('was', 'VBD'), Tree('ORGANIZATION', [('Denis', 'NNP'), ('de', 'FW'), ('Rougemont', 'NNP')]), ('(', '('), ('1759\\xad–1839', 'CD'), (')', ')'), ('from', 'IN'), ('Saint-Aubin', 'NNP'), ('and', 'CC'), Tree('ORGANIZATION', [('Neuchâtel', 'NNP')]), (',', ','), ('banker', 'NN'), (',', ','), ('Prussian', 'JJ'), ('financial', 'JJ'), ('agent', 'NN'), (',', ','), ('major', 'JJ'), ('Banque', 'NNP'), ('de', 'FW'), Tree('LOCATION', [('France', 'NNP')]), ('shareholder', 'NN'), ('and', 'CC'), ('real', 'JJ'), ('estate', 'NN'), ('owner', 'NN'), ('in', 'IN'), Tree('LOCATION', [('Paris', 'NNP')]), ('and', 'CC'), Tree('LOCATION', [('Berne', 'NNP')]), ('.', '.'), ('He', 'PRP'), ('bought', 'VBD'), ('the', 'DT'), Tree('ORGANIZATION', [('Hôtel', 'NNP'), ('DuPeyrou', 'NNP')]), ('in', 'IN'), ('Neuchâtel', 'NNP'), ('in', 'IN'), Tree('DATE', [('1816', 'CD')]), ('.', '.'), ('In', 'IN'), Tree('DATE', [('1837', 'CD')]), (',', ','), ('his', 'PRP$'), ('son', 'NN'), Tree('PERSON', [('Abraham', 'NNP'), ('Denis', 'NNP'), ('Alfred', 'NNP'), ('de', 'IN'), ('Rougemont', 'NNP')]), ('(', '('), ('1802–1868', 'CD'), (')', ')'), (',', ','), ('who', 'WP'), ('was', 'VBD'), ('a', 'DT'), ('good', 'JJ'), ('friend', 'NN'), ('of', 'IN'), Tree('PERSON', [('Heinrich', 'NNP'), ('Escher', 'NNP')]), ('’', 'NNP'), ('s', 'NN'), ('(', '('), ('1776–1853', 'CD'), (')', ')'), (',', ','), ('bought', 'VBD'), Tree('ORGANIZATION', [('Schadau', 'NNP'), ('Castle', 'NNP')]), ('and', 'CC'), ('the', 'DT'), ('adjoining', 'VBG'), ('large', 'JJ'), ('estate', 'NN'), ('in', 'IN'), ('Thun', 'NNP'), ('BE', 'NNP'), ('and', 'CC'), ('had', 'VBD'), ('the', 'DT'), Tree('ORGANIZATION', [('Castle', 'NNP')]), ('rebuilt', 'NN'), ('in', 'IN'), ('a', 'DT'), ('style', 'NN'), ('inspired', 'VBN'), ('by', 'IN'), Tree('ORGANIZATION', [('Tudor', 'NNP'), ('gothic', 'JJ')]), ('and', 'CC'), Tree('LOCATION', [('Loire', 'NNP')]), ('castles', 'NNS'), ('.', '.'), ('His', 'PRP$'), ('other', 'JJ'), ('son', 'NN'), (',', ','), Tree('PERSON', [('Rodolphe', 'NNP'), ('Emile', 'NNP'), ('Adolphe', 'NNP')]), ('de', 'FW'), ('Rougement', 'NNP'), ('(', '('), ('1805–1844', 'CD'), (')', ')'), (',', ','), ('had', 'VBD'), ('bought', 'VBN'), ('castle', 'RB'), ('Chartreuse', 'NNP'), ('on', 'IN'), ('the', 'DT'), ('opposite', 'JJ'), ('bank', 'NN'), ('of', 'IN'), ('the', 'DT'), Tree('LOCATION', [('Aare', 'NNP')]), ('river', 'NN'), ('in', 'IN'), Tree('LOCATION', [('Thun', 'NNP')]), ('in', 'IN'), Tree('DATE', [('1831', 'CD')]), ('.', '.'), ('The', 'DT'), ('de', 'FW'), ('Rougement', 'NNP'), ('family', 'NN'), ('were', 'VBD'), ('related', 'VBN'), ('to', 'TO'), ('the', 'DT'), ('de', 'FW'), ('Pourtalès', 'NNP'), ('and', 'CC'), ('the', 'DT'), ('de', 'JJ'), ('Pury', 'NNP'), ('families', 'NNS'), ('of', 'IN'), ('Neuchâtel', 'NNP'), ('with', 'IN'), ('their', 'PRP$'), ('close', 'JJ'), ('ties', 'NNS'), ('to', 'TO'), ('the', 'DT'), ('transatlantic', 'JJ'), ('slavery', 'NN'), ('system', 'NN'), ('.', '.'), ('1.2', 'CD'), Tree('LOCATION', [('Bahamas', 'NNPS')])])"
      ]
     },
     "execution_count": 7,
     "metadata": {},
     "output_type": "execute_result"
    }
   ],
   "source": [
    "tree_text = stanford_tree(bio_text)\n",
    "tree_text"
   ]
  },
  {
   "cell_type": "code",
   "execution_count": 39,
   "metadata": {},
   "outputs": [],
   "source": [
    "# Function imported from \n",
    "# https://pythonprogramming.net/using-bio-tags-create-named-entity-lists/?completed=/testing-stanford-ner-taggers-for-speed/\n",
    "\n",
    "# Parse named entities from tree\n",
    "def structure_ne(ne_tree):\n",
    "\tne = []\n",
    "\tfor subtree in ne_tree:\n",
    "\t\tif type(subtree) == Tree: # If subtree is a noun chunk, i.e. NE != \"O\"\n",
    "\t\t\tne_label = subtree.label()\n",
    "\t\t\tne_string = \" \".join([token for token, pos in subtree.leaves()])\n",
    "\t\t\tne.append((ne_string, ne_label))\n",
    "\t\telse:\n",
    "\t\t\tne_label = 'O'\n",
    "\t\t\tne_string = subtree[0]\n",
    "\t\t\tne.append((ne_string, ne_label))           \n",
    "\treturn ne"
   ]
  },
  {
   "cell_type": "code",
   "execution_count": 40,
   "metadata": {},
   "outputs": [
    {
     "data": {
      "text/plain": [
       "[('=', 'O'),\n",
       " ('>', 'O'),\n",
       " ('Hans Conrad Hottinger', 'PERSON'),\n",
       " ('’', 'O'),\n",
       " ('s', 'O'),\n",
       " ('business', 'O'),\n",
       " ('partner', 'O'),\n",
       " ('was', 'O'),\n",
       " ('Denis de Rougemont', 'ORGANIZATION'),\n",
       " ('(', 'O'),\n",
       " ('1759\\xad–1839', 'O'),\n",
       " (')', 'O'),\n",
       " ('from', 'O'),\n",
       " ('Saint-Aubin', 'O'),\n",
       " ('and', 'O'),\n",
       " ('Neuchâtel', 'ORGANIZATION'),\n",
       " (',', 'O'),\n",
       " ('banker', 'O'),\n",
       " (',', 'O'),\n",
       " ('Prussian', 'O'),\n",
       " ('financial', 'O'),\n",
       " ('agent', 'O'),\n",
       " (',', 'O'),\n",
       " ('major', 'O'),\n",
       " ('Banque', 'O'),\n",
       " ('de', 'O'),\n",
       " ('France', 'LOCATION'),\n",
       " ('shareholder', 'O'),\n",
       " ('and', 'O'),\n",
       " ('real', 'O'),\n",
       " ('estate', 'O'),\n",
       " ('owner', 'O'),\n",
       " ('in', 'O'),\n",
       " ('Paris', 'LOCATION'),\n",
       " ('and', 'O'),\n",
       " ('Berne', 'LOCATION'),\n",
       " ('.', 'O'),\n",
       " ('He', 'O'),\n",
       " ('bought', 'O'),\n",
       " ('the', 'O'),\n",
       " ('Hôtel DuPeyrou', 'ORGANIZATION'),\n",
       " ('in', 'O'),\n",
       " ('Neuchâtel', 'O'),\n",
       " ('in', 'O'),\n",
       " ('1816', 'DATE'),\n",
       " ('.', 'O'),\n",
       " ('In', 'O'),\n",
       " ('1837', 'DATE'),\n",
       " (',', 'O'),\n",
       " ('his', 'O'),\n",
       " ('son', 'O'),\n",
       " ('Abraham Denis Alfred de Rougemont', 'PERSON'),\n",
       " ('(', 'O'),\n",
       " ('1802–1868', 'O'),\n",
       " (')', 'O'),\n",
       " (',', 'O'),\n",
       " ('who', 'O'),\n",
       " ('was', 'O'),\n",
       " ('a', 'O'),\n",
       " ('good', 'O'),\n",
       " ('friend', 'O'),\n",
       " ('of', 'O'),\n",
       " ('Heinrich Escher', 'PERSON'),\n",
       " ('’', 'O'),\n",
       " ('s', 'O'),\n",
       " ('(', 'O'),\n",
       " ('1776–1853', 'O'),\n",
       " (')', 'O'),\n",
       " (',', 'O'),\n",
       " ('bought', 'O'),\n",
       " ('Schadau Castle', 'ORGANIZATION'),\n",
       " ('and', 'O'),\n",
       " ('the', 'O'),\n",
       " ('adjoining', 'O'),\n",
       " ('large', 'O'),\n",
       " ('estate', 'O'),\n",
       " ('in', 'O'),\n",
       " ('Thun', 'O'),\n",
       " ('BE', 'O'),\n",
       " ('and', 'O'),\n",
       " ('had', 'O'),\n",
       " ('the', 'O'),\n",
       " ('Castle', 'ORGANIZATION'),\n",
       " ('rebuilt', 'O'),\n",
       " ('in', 'O'),\n",
       " ('a', 'O'),\n",
       " ('style', 'O'),\n",
       " ('inspired', 'O'),\n",
       " ('by', 'O'),\n",
       " ('Tudor gothic', 'ORGANIZATION'),\n",
       " ('and', 'O'),\n",
       " ('Loire', 'LOCATION'),\n",
       " ('castles', 'O'),\n",
       " ('.', 'O'),\n",
       " ('His', 'O'),\n",
       " ('other', 'O'),\n",
       " ('son', 'O'),\n",
       " (',', 'O'),\n",
       " ('Rodolphe Emile Adolphe', 'PERSON'),\n",
       " ('de', 'O'),\n",
       " ('Rougement', 'O'),\n",
       " ('(', 'O'),\n",
       " ('1805–1844', 'O'),\n",
       " (')', 'O'),\n",
       " (',', 'O'),\n",
       " ('had', 'O'),\n",
       " ('bought', 'O'),\n",
       " ('castle', 'O'),\n",
       " ('Chartreuse', 'O'),\n",
       " ('on', 'O'),\n",
       " ('the', 'O'),\n",
       " ('opposite', 'O'),\n",
       " ('bank', 'O'),\n",
       " ('of', 'O'),\n",
       " ('the', 'O'),\n",
       " ('Aare', 'LOCATION'),\n",
       " ('river', 'O'),\n",
       " ('in', 'O'),\n",
       " ('Thun', 'LOCATION'),\n",
       " ('in', 'O'),\n",
       " ('1831', 'DATE'),\n",
       " ('.', 'O'),\n",
       " ('The', 'O'),\n",
       " ('de', 'O'),\n",
       " ('Rougement', 'O'),\n",
       " ('family', 'O'),\n",
       " ('were', 'O'),\n",
       " ('related', 'O'),\n",
       " ('to', 'O'),\n",
       " ('the', 'O'),\n",
       " ('de', 'O'),\n",
       " ('Pourtalès', 'O'),\n",
       " ('and', 'O'),\n",
       " ('the', 'O'),\n",
       " ('de', 'O'),\n",
       " ('Pury', 'O'),\n",
       " ('families', 'O'),\n",
       " ('of', 'O'),\n",
       " ('Neuchâtel', 'O'),\n",
       " ('with', 'O'),\n",
       " ('their', 'O'),\n",
       " ('close', 'O'),\n",
       " ('ties', 'O'),\n",
       " ('to', 'O'),\n",
       " ('the', 'O'),\n",
       " ('transatlantic', 'O'),\n",
       " ('slavery', 'O'),\n",
       " ('system', 'O'),\n",
       " ('.', 'O'),\n",
       " ('1.2', 'O'),\n",
       " ('Bahamas', 'LOCATION')]"
      ]
     },
     "execution_count": 40,
     "metadata": {},
     "output_type": "execute_result"
    }
   ],
   "source": [
    "clean_ne = structure_ne(tree_text)\n",
    "clean_ne"
   ]
  },
  {
   "cell_type": "markdown",
   "metadata": {},
   "source": [
    "# From NE tree to JSON"
   ]
  },
  {
   "cell_type": "markdown",
   "metadata": {},
   "source": [
    "The structure NE list for each text is transformed into an entry in a dataframe. The goal is to have for each sample of text an entry with the *relevant* informations.  \n",
    "The difficult part is to sort the relevant informations. Which of the persons is the one of interest? Which location is the location where the organization or the person was involved? Which dates are the dates of interest? \n",
    "Here we deal only with the transformation."
   ]
  },
  {
   "cell_type": "markdown",
   "metadata": {},
   "source": [
    "## Compute how many items follow the **(*name* (date) from *origin*)** schema (schema 1)"
   ]
  },
  {
   "cell_type": "markdown",
   "metadata": {},
   "source": [
    "## Use schema 1 **(*name* (date) from *origin*)** to retrieve JSON names, origins and dates attributes in the text item."
   ]
  },
  {
   "cell_type": "markdown",
   "metadata": {},
   "source": [
    "## Use section name to retrieve JSON colonial location attribute"
   ]
  },
  {
   "cell_type": "markdown",
   "metadata": {},
   "source": [
    "To do "
   ]
  },
  {
   "cell_type": "markdown",
   "metadata": {},
   "source": [
    "## Use predefined categories to retrieve the JSON type attribute "
   ]
  },
  {
   "cell_type": "markdown",
   "metadata": {},
   "source": [
    "To do "
   ]
  },
  {
   "cell_type": "markdown",
   "metadata": {},
   "source": [
    "# Scratch"
   ]
  },
  {
   "cell_type": "code",
   "execution_count": null,
   "metadata": {},
   "outputs": [],
   "source": []
  },
  {
   "cell_type": "markdown",
   "metadata": {},
   "source": [
    "What about multiple persons in a paragraph?\n",
    "    -> one ID per person with same organization groups etc..."
   ]
  },
  {
   "cell_type": "code",
   "execution_count": null,
   "metadata": {},
   "outputs": [],
   "source": [
    "dataSet = pd.DataFrame({\n",
    "                     'id':[],\n",
    "                     'person':[],\n",
    "                     'location':[],\n",
    "                     'period':[],})\n",
    "dataSet."
   ]
  },
  {
   "cell_type": "code",
   "execution_count": null,
   "metadata": {},
   "outputs": [],
   "source": [
    "person_list = []\n",
    "\n",
    "for ent in tokens.ents:\n",
    "    if ent.label_ == 'PERSON':\n",
    "        person_list.append(ent.text)\n",
    "        \n",
    "person_counts = Counter(person_list).most_common(20)\n",
    "df_person = pd.DataFrame(person_counts, columns =['text', 'count'])"
   ]
  },
  {
   "cell_type": "code",
   "execution_count": null,
   "metadata": {},
   "outputs": [],
   "source": [
    "len(classified_text)"
   ]
  },
  {
   "cell_type": "code",
   "execution_count": null,
   "metadata": {},
   "outputs": [],
   "source": [
    "json"
   ]
  },
  {
   "cell_type": "code",
   "execution_count": null,
   "metadata": {},
   "outputs": [],
   "source": []
  }
 ],
 "metadata": {
  "kernelspec": {
   "display_name": "Python 3",
   "language": "python",
   "name": "python3"
  },
  "language_info": {
   "codemirror_mode": {
    "name": "ipython",
    "version": 3
   },
   "file_extension": ".py",
   "mimetype": "text/x-python",
   "name": "python",
   "nbconvert_exporter": "python",
   "pygments_lexer": "ipython3",
   "version": "3.8.5"
  }
 },
 "nbformat": 4,
 "nbformat_minor": 4
}
