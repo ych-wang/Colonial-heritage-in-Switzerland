{
 "cells": [
  {
   "cell_type": "markdown",
   "metadata": {},
   "source": [
    "## Header \n",
    "Author : Amina Matt and Yichen Wang  \n",
    "Date created : 14.10.2021  \n",
    "Date last modified : 14.10.2021  \n",
    "Python version : 3.8  \n",
    "Description : Text processing of the CARICOM Compilation Archive (CCA) https://louverture.ch/cca/ \n",
    "\n"
   ]
  },
  {
   "cell_type": "code",
   "execution_count": 12,
   "metadata": {},
   "outputs": [
    {
     "name": "stderr",
     "output_type": "stream",
     "text": [
      "[nltk_data] Downloading package punkt to /Users/aminamatt/nltk_data...\n",
      "[nltk_data]   Package punkt is already up-to-date!\n"
     ]
    },
    {
     "name": "stdout",
     "output_type": "stream",
     "text": [
      "[('=', 'O'), ('>', 'O'), ('Hans', 'PERSON'), ('Conrad', 'PERSON'), ('Hottinger', 'PERSON'), ('’', 'O'), ('s', 'O'), ('business', 'O'), ('partner', 'O'), ('was', 'O'), ('Denis', 'PERSON'), ('de', 'PERSON'), ('Rougemont', 'PERSON'), ('(', 'O'), ('1759\\xad–1839', 'O'), (')', 'O'), ('from', 'O'), ('Saint-Aubin', 'LOCATION'), ('and', 'O'), ('Neuchâtel', 'LOCATION'), (',', 'O'), ('banker', 'O'), (',', 'O'), ('Prussian', 'O'), ('financial', 'O'), ('agent', 'O'), (',', 'O'), ('major', 'O'), ('Banque', 'ORGANIZATION'), ('de', 'ORGANIZATION'), ('France', 'ORGANIZATION'), ('shareholder', 'O'), ('and', 'O'), ('real', 'O'), ('estate', 'O'), ('owner', 'O'), ('in', 'O'), ('Paris', 'LOCATION'), ('and', 'O'), ('Berne', 'PERSON'), ('.', 'O'), ('He', 'O'), ('bought', 'O'), ('the', 'O'), ('Hôtel', 'O'), ('DuPeyrou', 'O'), ('in', 'O'), ('Neuchâtel', 'LOCATION'), ('in', 'O'), ('1816', 'O'), ('.', 'O'), ('In', 'O'), ('1837', 'O'), (',', 'O'), ('his', 'O'), ('son', 'O'), ('Abraham', 'PERSON'), ('Denis', 'PERSON'), ('Alfred', 'PERSON'), ('de', 'PERSON'), ('Rougemont', 'PERSON'), ('(', 'O'), ('1802–1868', 'O'), (')', 'O'), (',', 'O'), ('who', 'O'), ('was', 'O'), ('a', 'O'), ('good', 'O'), ('friend', 'O'), ('of', 'O'), ('Heinrich', 'PERSON'), ('Escher', 'PERSON'), ('’', 'O'), ('s', 'O'), ('(', 'O'), ('1776–1853', 'O'), (')', 'O'), (',', 'O'), ('bought', 'O'), ('Schadau', 'PERSON'), ('Castle', 'PERSON'), ('and', 'O'), ('the', 'O'), ('adjoining', 'O'), ('large', 'O'), ('estate', 'O'), ('in', 'O'), ('Thun', 'LOCATION'), ('BE', 'LOCATION'), ('and', 'O'), ('had', 'O'), ('the', 'O'), ('Castle', 'O'), ('rebuilt', 'O'), ('in', 'O'), ('a', 'O'), ('style', 'O'), ('inspired', 'O'), ('by', 'O'), ('Tudor', 'PERSON'), ('gothic', 'O'), ('and', 'O'), ('Loire', 'LOCATION'), ('castles', 'O'), ('.', 'O'), ('His', 'O'), ('other', 'O'), ('son', 'O'), (',', 'O'), ('Rodolphe', 'PERSON'), ('Emile', 'PERSON'), ('Adolphe', 'PERSON'), ('de', 'O'), ('Rougement', 'O'), ('(', 'O'), ('1805–1844', 'O'), (')', 'O'), (',', 'O'), ('had', 'O'), ('bought', 'O'), ('castle', 'O'), ('Chartreuse', 'O'), ('on', 'O'), ('the', 'O'), ('opposite', 'O'), ('bank', 'O'), ('of', 'O'), ('the', 'O'), ('Aare', 'O'), ('river', 'O'), ('in', 'O'), ('Thun', 'LOCATION'), ('in', 'O'), ('1831', 'O'), ('.', 'O'), ('The', 'O'), ('de', 'O'), ('Rougement', 'O'), ('family', 'O'), ('were', 'O'), ('related', 'O'), ('to', 'O'), ('the', 'O'), ('de', 'O'), ('Pourtalès', 'O'), ('and', 'O'), ('the', 'O'), ('de', 'O'), ('Pury', 'O'), ('families', 'O'), ('of', 'O'), ('Neuchâtel', 'LOCATION'), ('with', 'O'), ('their', 'O'), ('close', 'O'), ('ties', 'O'), ('to', 'O'), ('the', 'O'), ('transatlantic', 'O'), ('slavery', 'O'), ('system', 'O'), ('.', 'O'), ('1.2', 'O'), ('Bahamas', 'LOCATION')]\n"
     ]
    }
   ],
   "source": [
    "# -*- coding: utf-8 -*-\n",
    "\n",
    "import nltk\n",
    "nltk.download('punkt')\n",
    "from nltk.tag import StanfordNERTagger\n",
    "from nltk.tokenize import word_tokenize\n",
    "\n",
    "PATH = '/Users/aminamatt/Documents/Cours-2021/FDH/Colonial-heritage-in-Switzerland/'\n",
    "\n",
    "#Stanford NER \n",
    "NER_FOLDER = PATH+'NER-Standford/stanford-ner-2020-11-17'\n",
    "CLASSIFIER_PATH = NER_FOLDER+'/classifiers/'\n",
    "JAR_PATH = NER_FOLDER+'/stanford-ner.jar'\n",
    "\n",
    "#classifiers\n",
    "classifier_3 = 'english.all.3class.distsim.crf.ser.gz'#3 class model for recognizing locations, persons, and organizations\n",
    "classifier_4 = 'english.conll.4class.distsim.crf.ser.gz'#4 class model for recognizing locations, persons, organizations, and miscellaneous entities\n",
    "classifier_7 = 'english.muc.7class.distsim.crf.ser.gz' #7 class model for recognizing locations, persons, organizations, times, money, percents, and dates\n",
    "\n",
    "st = StanfordNERTagger(CLASSIFIER_PATH+classifier_3, JAR_PATH, encoding='utf-8')\n",
    "\n",
    "#Text retrieving\n",
    "caricom_sample = PATH+'Caricom_Archive_Sample.txt'\n",
    "caricom = PATH+'Caricom_Archive.txt'\n",
    "\n",
    "text = open(caricom_sample, 'r').read()\n",
    "tokenized_text = word_tokenize(text)\n",
    "classified_text = st.tag(tokenized_text)\n",
    "\n",
    "print(classified_text)"
   ]
  },
  {
   "cell_type": "code",
   "execution_count": null,
   "metadata": {},
   "outputs": [],
   "source": []
  }
 ],
 "metadata": {
  "kernelspec": {
   "display_name": "Python 3",
   "language": "python",
   "name": "python3"
  },
  "language_info": {
   "codemirror_mode": {
    "name": "ipython",
    "version": 3
   },
   "file_extension": ".py",
   "mimetype": "text/x-python",
   "name": "python",
   "nbconvert_exporter": "python",
   "pygments_lexer": "ipython3",
   "version": "3.8.5"
  }
 },
 "nbformat": 4,
 "nbformat_minor": 4
}
