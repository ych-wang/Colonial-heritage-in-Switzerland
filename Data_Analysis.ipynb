{
 "cells": [
  {
   "cell_type": "markdown",
   "metadata": {},
   "source": [
    "# Data analysis"
   ]
  },
  {
   "cell_type": "markdown",
   "metadata": {},
   "source": [
    "## Header \n",
    "Author : Amina Matt and Yichen Wang  \n",
    "Date created : 18.12.2021  \n",
    "Date last modified : 22.12.2021  \n",
    "Python version : 3.8  \n",
    "Description : Analyzing the dataset obtain from text processing"
   ]
  },
  {
   "cell_type": "markdown",
   "metadata": {},
   "source": [
    "## Librairies"
   ]
  },
  {
   "cell_type": "code",
   "execution_count": 314,
   "metadata": {},
   "outputs": [],
   "source": [
    "# -*- coding: utf-8 -*-\n",
    "import json #for dumpint of dictionary into json files\n",
    "import pandas as pd #Pandas provides data structure and data analysis tools\n",
    "from pandas.io.json import json_normalize\n",
    "import re\n",
    "import matplotlib.pyplot as plt"
   ]
  },
  {
   "cell_type": "markdown",
   "metadata": {},
   "source": [
    "## Data analysis"
   ]
  },
  {
   "cell_type": "code",
   "execution_count": 315,
   "metadata": {},
   "outputs": [],
   "source": [
    "#transform JSON list into a dataframe \n",
    "a_file = open(\"./generated_data/from_caricom.json\", \"r\")\n",
    "jsonList = json.load(a_file)\n",
    "df = pd.json_normalize(jsonList)"
   ]
  },
  {
   "cell_type": "code",
   "execution_count": 316,
   "metadata": {},
   "outputs": [
    {
     "data": {
      "text/html": [
       "<div>\n",
       "<style scoped>\n",
       "    .dataframe tbody tr th:only-of-type {\n",
       "        vertical-align: middle;\n",
       "    }\n",
       "\n",
       "    .dataframe tbody tr th {\n",
       "        vertical-align: top;\n",
       "    }\n",
       "\n",
       "    .dataframe thead th {\n",
       "        text-align: right;\n",
       "    }\n",
       "</style>\n",
       "<table border=\"1\" class=\"dataframe\">\n",
       "  <thead>\n",
       "    <tr style=\"text-align: right;\">\n",
       "      <th></th>\n",
       "      <th>person</th>\n",
       "      <th>date</th>\n",
       "      <th>origin</th>\n",
       "      <th>colonial_Location</th>\n",
       "      <th>confidence_date</th>\n",
       "      <th>confidence_person</th>\n",
       "      <th>confidence_origin</th>\n",
       "      <th>activities</th>\n",
       "      <th>whole_entry</th>\n",
       "    </tr>\n",
       "  </thead>\n",
       "  <tbody>\n",
       "    <tr>\n",
       "      <th>0</th>\n",
       "      <td>Arthur Thellusson</td>\n",
       "      <td>None</td>\n",
       "      <td>Geneva</td>\n",
       "      <td>Antigua and Barbuda</td>\n",
       "      <td>0</td>\n",
       "      <td>25.00</td>\n",
       "      <td>100.00</td>\n",
       "      <td>[slave owner]</td>\n",
       "      <td>=&gt; Arthur Thellusson, son of Lord Rendlesham a...</td>\n",
       "    </tr>\n",
       "    <tr>\n",
       "      <th>1</th>\n",
       "      <td>Jamaica Kincaid</td>\n",
       "      <td>None</td>\n",
       "      <td>None</td>\n",
       "      <td>Antigua and Barbuda</td>\n",
       "      <td>0</td>\n",
       "      <td>100.00</td>\n",
       "      <td>0.00</td>\n",
       "      <td>None</td>\n",
       "      <td>=&gt; In her book A Small Place (1988), the Antig...</td>\n",
       "    </tr>\n",
       "    <tr>\n",
       "      <th>2</th>\n",
       "      <td>Hans Conrad Hottinger</td>\n",
       "      <td>None</td>\n",
       "      <td>Zurich</td>\n",
       "      <td>Antigua and Barbuda</td>\n",
       "      <td>0</td>\n",
       "      <td>25.00</td>\n",
       "      <td>100.00</td>\n",
       "      <td>[plantation owner]</td>\n",
       "      <td>=&gt; Hans Conrad Hottinger (Hottinguer) (1764–18...</td>\n",
       "    </tr>\n",
       "    <tr>\n",
       "      <th>3</th>\n",
       "      <td>Hans Conrad Hottinger</td>\n",
       "      <td>None</td>\n",
       "      <td>Saint-Aubin</td>\n",
       "      <td>Antigua and Barbuda</td>\n",
       "      <td>0</td>\n",
       "      <td>25.00</td>\n",
       "      <td>33.33</td>\n",
       "      <td>None</td>\n",
       "      <td>=&gt; Hans Conrad Hottinger’s business partner wa...</td>\n",
       "    </tr>\n",
       "    <tr>\n",
       "      <th>4</th>\n",
       "      <td>Felix Christian Spoerri</td>\n",
       "      <td>1677</td>\n",
       "      <td>Zurich</td>\n",
       "      <td>Barbados</td>\n",
       "      <td>20.00</td>\n",
       "      <td>100.00</td>\n",
       "      <td>0.00</td>\n",
       "      <td>None</td>\n",
       "      <td>=&gt; In 1677, Swiss medical doctor Felix Christi...</td>\n",
       "    </tr>\n",
       "  </tbody>\n",
       "</table>\n",
       "</div>"
      ],
      "text/plain": [
       "                    person  date       origin    colonial_Location  \\\n",
       "0        Arthur Thellusson  None       Geneva  Antigua and Barbuda   \n",
       "1          Jamaica Kincaid  None         None  Antigua and Barbuda   \n",
       "2    Hans Conrad Hottinger  None       Zurich  Antigua and Barbuda   \n",
       "3    Hans Conrad Hottinger  None  Saint-Aubin  Antigua and Barbuda   \n",
       "4  Felix Christian Spoerri  1677       Zurich             Barbados   \n",
       "\n",
       "  confidence_date confidence_person confidence_origin          activities  \\\n",
       "0               0             25.00            100.00       [slave owner]   \n",
       "1               0            100.00              0.00                None   \n",
       "2               0             25.00            100.00  [plantation owner]   \n",
       "3               0             25.00             33.33                None   \n",
       "4           20.00            100.00              0.00                None   \n",
       "\n",
       "                                         whole_entry  \n",
       "0  => Arthur Thellusson, son of Lord Rendlesham a...  \n",
       "1  => In her book A Small Place (1988), the Antig...  \n",
       "2  => Hans Conrad Hottinger (Hottinguer) (1764–18...  \n",
       "3  => Hans Conrad Hottinger’s business partner wa...  \n",
       "4  => In 1677, Swiss medical doctor Felix Christi...  "
      ]
     },
     "execution_count": 316,
     "metadata": {},
     "output_type": "execute_result"
    }
   ],
   "source": [
    "df.head()"
   ]
  },
  {
   "cell_type": "markdown",
   "metadata": {},
   "source": [
    "#### From other notebook"
   ]
  },
  {
   "cell_type": "code",
   "execution_count": 317,
   "metadata": {},
   "outputs": [],
   "source": [
    "#cleaning of origin \n",
    "def clean_origin(origin): \n",
    "    '''\n",
    "    Input: origin location from the caricom initial dataset\n",
    "    Output: only city origin \n",
    "    Requirements: re library\n",
    "    Description: Take out information in parenthesis, as well as extra whitespaces for better merging.\n",
    "    '''\n",
    "    if origin == None or origin == -1:\n",
    "        return None\n",
    "   \n",
    "    #remove parenthesis and everything that comes after it \n",
    "    try :\n",
    "        start = origin.index('(')\n",
    "    except : \n",
    "        start = len(origin)\n",
    "    origin = origin[0:start]\n",
    "    #print(origin)\n",
    "    \n",
    "    #remove digits and symbols\n",
    "    origin = re.sub('[^A-Za-z -.âü]+','',origin)\n",
    "   \n",
    "    #split version\n",
    "    o_split = origin.split()\n",
    "    \n",
    "    cleanOrigin = ''\n",
    "    \n",
    "    for split in o_split:\n",
    "        #print(split)\n",
    "        #get rid of one letter word\n",
    "        \n",
    "        if len(split)>=2 and split[0].isupper():\n",
    "            #print('will keep '+split)\n",
    "            cleanOrigin = cleanOrigin+' '+split\n",
    "            #print(cleanOrigin)\n",
    "            cleanOrigin = cleanOrigin.strip()\n",
    "        else :\n",
    "            #print('will not keep '+split)\n",
    "            cleanOrigin = None\n",
    "            break\n",
    "        \n",
    "    if cleanOrigin == 'St.Gallen':\n",
    "        cleanOrigin = 'St. Gallen'\n",
    "        \n",
    "    return cleanOrigin "
   ]
  },
  {
   "cell_type": "code",
   "execution_count": 318,
   "metadata": {},
   "outputs": [],
   "source": [
    "df['origin'] = df['origin'].apply(lambda x : clean_origin(x))\n",
    "df = df.drop(df[df.origin ==''].index)"
   ]
  },
  {
   "cell_type": "markdown",
   "metadata": {},
   "source": [
    "## Cities distribution "
   ]
  },
  {
   "cell_type": "code",
   "execution_count": 319,
   "metadata": {},
   "outputs": [],
   "source": [
    "def trick(city):\n",
    "    if city == \"Bâle\": \n",
    "        return 'Basel'\n",
    "    else :\n",
    "        return city "
   ]
  },
  {
   "cell_type": "code",
   "execution_count": 320,
   "metadata": {},
   "outputs": [],
   "source": [
    "cities_df =df.drop(df[df.origin =='Switzerland'].index)  #remove switzerland as not precise enough\n",
    "cities_df['origin'] = cities_df['origin'].apply(lambda x : trick(x))\n",
    "cities = cities_df['origin'].value_counts().head(10).sort_values(ascending = True)\n"
   ]
  },
  {
   "cell_type": "code",
   "execution_count": 321,
   "metadata": {},
   "outputs": [
    {
     "name": "stderr",
     "output_type": "stream",
     "text": [
      "<ipython-input-321-bb8f613138a7>:3: MatplotlibDeprecationWarning: Adding an axes using the same arguments as a previous axes currently reuses the earlier instance.  In a future version, a new instance will always be created and returned.  Meanwhile, this warning can be suppressed, and the future behavior ensured, by passing a unique label to each axes instance.\n",
      "  ax1 = plt.subplot(2, 2, 1)\n"
     ]
    },
    {
     "data": {
      "image/png": "[encoded data removed]",
      "text/plain": [
       "<Figure size 1800x720 with 1 Axes>"
      ]
     },
     "metadata": {
      "needs_background": "light"
     },
     "output_type": "display_data"
    }
   ],
   "source": [
    "plt.figure(figsize=((25,10)))\n",
    "plt.subplot(221)\n",
    "ax1 = plt.subplot(2, 2, 1)\n",
    "cities.plot.barh(color = '#FAA40F',fontsize=14,rot = 0).get_figure()\n",
    "plt.savefig('./img/origins_dist_barh.png')\n",
    "plt.tight_layout()\n",
    "plt.show()"
   ]
  },
  {
   "cell_type": "markdown",
   "metadata": {},
   "source": [
    "## Colonial locations "
   ]
  },
  {
   "cell_type": "code",
   "execution_count": 322,
   "metadata": {},
   "outputs": [],
   "source": [
    "col_Locations = df['colonial_Location'].value_counts().head(10).sort_values(ascending = True)"
   ]
  },
  {
   "cell_type": "code",
   "execution_count": 323,
   "metadata": {},
   "outputs": [
    {
     "data": {
      "image/png": "[encoded data removed]",
      "text/plain": [
       "<Figure size 1800x720 with 1 Axes>"
      ]
     },
     "metadata": {
      "needs_background": "light"
     },
     "output_type": "display_data"
    }
   ],
   "source": [
    "plt.figure(figsize=((25,10)))\n",
    "ax2 = plt.subplot(2, 2, 2)\n",
    "col_Locations.plot.barh(color = '#78E0DC',fontsize=14,rot = 0).get_figure()\n",
    "plt.savefig('./img/colonial_locs_dist_barh.png')\n",
    "plt.tight_layout()\n",
    "plt.show()"
   ]
  },
  {
   "cell_type": "markdown",
   "metadata": {},
   "source": [
    "## Activities "
   ]
  },
  {
   "cell_type": "code",
   "execution_count": 327,
   "metadata": {},
   "outputs": [],
   "source": [
    "df['slave owner activity'] = df['activities'].apply(lambda x : 'slave owner' in str(x))\n",
    "df['trading activity'] = df['activities'].apply(lambda x : 'trading' in str(x))\n",
    "df['military activity'] = df['activities'].apply(lambda x : 'military' in str(x))\n",
    "df['plantation owner activity'] = df['activities'].apply(lambda x : 'plantation owner' in str(x))\n",
    "df['slave trade activity'] = df['activities'].apply(lambda x : 'slave trade' in str(x))\n",
    "df['racist activity'] = df['activities'].apply(lambda x : 'racist' in str(x))"
   ]
  },
  {
   "cell_type": "code",
   "execution_count": 328,
   "metadata": {},
   "outputs": [],
   "source": [
    "series = df[['slave owner activity','trading activity','military activity','plantation owner activity','slave trade activity','racist activity']].sum()"
   ]
  },
  {
   "cell_type": "code",
   "execution_count": 329,
   "metadata": {},
   "outputs": [],
   "source": [
    "series_sorted = series.sort_values(ascending=True)"
   ]
  },
  {
   "cell_type": "code",
   "execution_count": 330,
   "metadata": {},
   "outputs": [
    {
     "data": {
      "image/png": "[encoded data removed]",
      "text/plain": [
       "<Figure size 1800x720 with 1 Axes>"
      ]
     },
     "metadata": {
      "needs_background": "light"
     },
     "output_type": "display_data"
    }
   ],
   "source": [
    "plt.figure(figsize=((25,10)))\n",
    "ax2 = plt.subplot(2, 2, 2)\n",
    "series_sorted.plot.barh(color = '#F44708',fontsize=14,rot = 0).get_figure()\n",
    "plt.savefig('./img/activities_dist_barh.png')\n",
    "plt.tight_layout()\n",
    "plt.show()"
   ]
  },
  {
   "cell_type": "markdown",
   "metadata": {},
   "source": [
    "## Name "
   ]
  },
  {
   "cell_type": "code",
   "execution_count": 331,
   "metadata": {},
   "outputs": [],
   "source": [
    "df['last name'] = df['person'].apply(lambda x: x.split()[-1])\n",
    "df_names = df.drop(df[df['last name'] == '('].index)\n",
    "df_names = df_names.drop(df_names[df_names['last name'] == ')'].index)\n",
    "df_names = df_names.drop(df_names[df_names['last name'] == '»'].index)\n",
    "df_names = df_names.drop(df_names[df_names['last name'] == ''].index)"
   ]
  },
  {
   "cell_type": "code",
   "execution_count": 332,
   "metadata": {},
   "outputs": [],
   "source": [
    "names = df_names['last name'].value_counts().head(5).sort_values(ascending = True)"
   ]
  },
  {
   "cell_type": "code",
   "execution_count": 333,
   "metadata": {},
   "outputs": [
    {
     "data": {
      "image/png": "[encoded data removed]",
      "text/plain": [
       "<Figure size 1800x720 with 1 Axes>"
      ]
     },
     "metadata": {
      "needs_background": "light"
     },
     "output_type": "display_data"
    }
   ],
   "source": [
    "plt.figure(figsize=((25,10)))\n",
    "ax2 = plt.subplot(2, 2, 2)\n",
    "names.plot.barh(color = '#F44708',fontsize=14,rot = 0).get_figure()\n",
    "plt.savefig('./img/names_dis_barh.png')\n",
    "plt.tight_layout()\n",
    "plt.show()"
   ]
  },
  {
   "cell_type": "code",
   "execution_count": 334,
   "metadata": {},
   "outputs": [
    {
     "data": {
      "text/plain": [
       "Zollikofer     4\n",
       "Zinzendorf     5\n",
       "Zollicoffer    6\n",
       "Flournoy       8\n",
       "Name: last name, dtype: int64"
      ]
     },
     "execution_count": 334,
     "metadata": {},
     "output_type": "execute_result"
    }
   ],
   "source": [
    "names[1:6]"
   ]
  },
  {
   "cell_type": "code",
   "execution_count": 335,
   "metadata": {},
   "outputs": [
    {
     "data": {
      "text/html": [
       "<div>\n",
       "<style scoped>\n",
       "    .dataframe tbody tr th:only-of-type {\n",
       "        vertical-align: middle;\n",
       "    }\n",
       "\n",
       "    .dataframe tbody tr th {\n",
       "        vertical-align: top;\n",
       "    }\n",
       "\n",
       "    .dataframe thead th {\n",
       "        text-align: right;\n",
       "    }\n",
       "</style>\n",
       "<table border=\"1\" class=\"dataframe\">\n",
       "  <thead>\n",
       "    <tr style=\"text-align: right;\">\n",
       "      <th></th>\n",
       "      <th>person</th>\n",
       "      <th>date</th>\n",
       "      <th>origin</th>\n",
       "      <th>colonial_Location</th>\n",
       "      <th>confidence_date</th>\n",
       "      <th>confidence_person</th>\n",
       "      <th>confidence_origin</th>\n",
       "      <th>activities</th>\n",
       "      <th>whole_entry</th>\n",
       "      <th>slave owner activity</th>\n",
       "      <th>trading activity</th>\n",
       "      <th>military activity</th>\n",
       "      <th>plantation owner activity</th>\n",
       "      <th>slave trade activity</th>\n",
       "      <th>racist activity</th>\n",
       "      <th>last name</th>\n",
       "    </tr>\n",
       "  </thead>\n",
       "  <tbody>\n",
       "    <tr>\n",
       "      <th>205</th>\n",
       "      <td>Robert Flournoy</td>\n",
       "      <td>1826-1896</td>\n",
       "      <td>None</td>\n",
       "      <td>Alabama</td>\n",
       "      <td>11.11</td>\n",
       "      <td>14.29</td>\n",
       "      <td>100.00</td>\n",
       "      <td>[slave owner]</td>\n",
       "      <td>=&gt; Robert Flournoy (1826-1896) originally from...</td>\n",
       "      <td>True</td>\n",
       "      <td>False</td>\n",
       "      <td>False</td>\n",
       "      <td>False</td>\n",
       "      <td>False</td>\n",
       "      <td>False</td>\n",
       "      <td>Flournoy</td>\n",
       "    </tr>\n",
       "    <tr>\n",
       "      <th>237</th>\n",
       "      <td>Robert Flournoy</td>\n",
       "      <td>1763-1825</td>\n",
       "      <td>None</td>\n",
       "      <td>Georgia</td>\n",
       "      <td>25.00</td>\n",
       "      <td>50.00</td>\n",
       "      <td>100.00</td>\n",
       "      <td>[slave owner, plantation owner]</td>\n",
       "      <td>=&gt; Robert Flournoy (1763-1825), originally fro...</td>\n",
       "      <td>True</td>\n",
       "      <td>False</td>\n",
       "      <td>False</td>\n",
       "      <td>True</td>\n",
       "      <td>False</td>\n",
       "      <td>False</td>\n",
       "      <td>Flournoy</td>\n",
       "    </tr>\n",
       "    <tr>\n",
       "      <th>241</th>\n",
       "      <td>Alfred Flournoy</td>\n",
       "      <td>1796-1873</td>\n",
       "      <td>None</td>\n",
       "      <td>Louisiana</td>\n",
       "      <td>16.67</td>\n",
       "      <td>33.33</td>\n",
       "      <td>100.00</td>\n",
       "      <td>[slave owner]</td>\n",
       "      <td>=&gt; Alfred Flournoy (1796-1873), originally fro...</td>\n",
       "      <td>True</td>\n",
       "      <td>False</td>\n",
       "      <td>False</td>\n",
       "      <td>False</td>\n",
       "      <td>False</td>\n",
       "      <td>False</td>\n",
       "      <td>Flournoy</td>\n",
       "    </tr>\n",
       "    <tr>\n",
       "      <th>253</th>\n",
       "      <td>Samuel Martin Flournoy</td>\n",
       "      <td>None</td>\n",
       "      <td>None</td>\n",
       "      <td>Alabama</td>\n",
       "      <td>0</td>\n",
       "      <td>10.00</td>\n",
       "      <td>100.00</td>\n",
       "      <td>[slave owner, military]</td>\n",
       "      <td>=&gt; Samuel Martin Flournoy (1799–1878), origina...</td>\n",
       "      <td>True</td>\n",
       "      <td>False</td>\n",
       "      <td>True</td>\n",
       "      <td>False</td>\n",
       "      <td>False</td>\n",
       "      <td>False</td>\n",
       "      <td>Flournoy</td>\n",
       "    </tr>\n",
       "    <tr>\n",
       "      <th>259</th>\n",
       "      <td>Jacob Flournoy</td>\n",
       "      <td>None</td>\n",
       "      <td>None</td>\n",
       "      <td>Alabama</td>\n",
       "      <td>0</td>\n",
       "      <td>4.35</td>\n",
       "      <td>50.00</td>\n",
       "      <td>[slave owner]</td>\n",
       "      <td>=&gt; Jacob Flournoy (1663–1725 ) from a Geneva f...</td>\n",
       "      <td>True</td>\n",
       "      <td>False</td>\n",
       "      <td>False</td>\n",
       "      <td>False</td>\n",
       "      <td>False</td>\n",
       "      <td>False</td>\n",
       "      <td>Flournoy</td>\n",
       "    </tr>\n",
       "    <tr>\n",
       "      <th>260</th>\n",
       "      <td>Jacob Flournoy</td>\n",
       "      <td>1760-1846</td>\n",
       "      <td>None</td>\n",
       "      <td>Alabama</td>\n",
       "      <td>16.67</td>\n",
       "      <td>8.33</td>\n",
       "      <td>100.00</td>\n",
       "      <td>[slave owner, plantation owner]</td>\n",
       "      <td>=&gt; Jacob Flournoy (1760-1846), originally from...</td>\n",
       "      <td>True</td>\n",
       "      <td>False</td>\n",
       "      <td>False</td>\n",
       "      <td>True</td>\n",
       "      <td>False</td>\n",
       "      <td>False</td>\n",
       "      <td>Flournoy</td>\n",
       "    </tr>\n",
       "    <tr>\n",
       "      <th>261</th>\n",
       "      <td>Thomas Stanhope Flournoy</td>\n",
       "      <td>None</td>\n",
       "      <td>None</td>\n",
       "      <td>Alabama</td>\n",
       "      <td>0</td>\n",
       "      <td>50.00</td>\n",
       "      <td>100.00</td>\n",
       "      <td>[slave owner, military, trading]</td>\n",
       "      <td>=&gt; Thomas Stanhope Flournoy (1811–1883), origi...</td>\n",
       "      <td>True</td>\n",
       "      <td>True</td>\n",
       "      <td>True</td>\n",
       "      <td>False</td>\n",
       "      <td>False</td>\n",
       "      <td>False</td>\n",
       "      <td>Flournoy</td>\n",
       "    </tr>\n",
       "    <tr>\n",
       "      <th>318</th>\n",
       "      <td>John Jacob Flournoy</td>\n",
       "      <td>None</td>\n",
       "      <td>None</td>\n",
       "      <td>Switzerland</td>\n",
       "      <td>0</td>\n",
       "      <td>9.09</td>\n",
       "      <td>100.00</td>\n",
       "      <td>[slave owner, racist]</td>\n",
       "      <td>=&gt; John Jacob Flournoy (1808–1879) from a fami...</td>\n",
       "      <td>True</td>\n",
       "      <td>False</td>\n",
       "      <td>False</td>\n",
       "      <td>False</td>\n",
       "      <td>False</td>\n",
       "      <td>True</td>\n",
       "      <td>Flournoy</td>\n",
       "    </tr>\n",
       "  </tbody>\n",
       "</table>\n",
       "</div>"
      ],
      "text/plain": [
       "                       person       date origin colonial_Location  \\\n",
       "205           Robert Flournoy  1826-1896   None           Alabama   \n",
       "237           Robert Flournoy  1763-1825   None           Georgia   \n",
       "241           Alfred Flournoy  1796-1873   None         Louisiana   \n",
       "253    Samuel Martin Flournoy       None   None           Alabama   \n",
       "259            Jacob Flournoy       None   None           Alabama   \n",
       "260            Jacob Flournoy  1760-1846   None           Alabama   \n",
       "261  Thomas Stanhope Flournoy       None   None           Alabama   \n",
       "318       John Jacob Flournoy       None   None       Switzerland   \n",
       "\n",
       "    confidence_date confidence_person confidence_origin  \\\n",
       "205           11.11             14.29            100.00   \n",
       "237           25.00             50.00            100.00   \n",
       "241           16.67             33.33            100.00   \n",
       "253               0             10.00            100.00   \n",
       "259               0              4.35             50.00   \n",
       "260           16.67              8.33            100.00   \n",
       "261               0             50.00            100.00   \n",
       "318               0              9.09            100.00   \n",
       "\n",
       "                           activities  \\\n",
       "205                     [slave owner]   \n",
       "237   [slave owner, plantation owner]   \n",
       "241                     [slave owner]   \n",
       "253           [slave owner, military]   \n",
       "259                     [slave owner]   \n",
       "260   [slave owner, plantation owner]   \n",
       "261  [slave owner, military, trading]   \n",
       "318             [slave owner, racist]   \n",
       "\n",
       "                                           whole_entry  slave owner activity  \\\n",
       "205  => Robert Flournoy (1826-1896) originally from...                  True   \n",
       "237  => Robert Flournoy (1763-1825), originally fro...                  True   \n",
       "241  => Alfred Flournoy (1796-1873), originally fro...                  True   \n",
       "253  => Samuel Martin Flournoy (1799–1878), origina...                  True   \n",
       "259  => Jacob Flournoy (1663–1725 ) from a Geneva f...                  True   \n",
       "260  => Jacob Flournoy (1760-1846), originally from...                  True   \n",
       "261  => Thomas Stanhope Flournoy (1811–1883), origi...                  True   \n",
       "318  => John Jacob Flournoy (1808–1879) from a fami...                  True   \n",
       "\n",
       "     trading activity  military activity  plantation owner activity  \\\n",
       "205             False              False                      False   \n",
       "237             False              False                       True   \n",
       "241             False              False                      False   \n",
       "253             False               True                      False   \n",
       "259             False              False                      False   \n",
       "260             False              False                       True   \n",
       "261              True               True                      False   \n",
       "318             False              False                      False   \n",
       "\n",
       "     slave trade activity  racist activity last name  \n",
       "205                 False            False  Flournoy  \n",
       "237                 False            False  Flournoy  \n",
       "241                 False            False  Flournoy  \n",
       "253                 False            False  Flournoy  \n",
       "259                 False            False  Flournoy  \n",
       "260                 False            False  Flournoy  \n",
       "261                 False            False  Flournoy  \n",
       "318                 False             True  Flournoy  "
      ]
     },
     "execution_count": 335,
     "metadata": {},
     "output_type": "execute_result"
    }
   ],
   "source": [
    "df[df['last name']=='Flournoy']"
   ]
  }
 ],
 "metadata": {
  "kernelspec": {
   "display_name": "Python 3",
   "language": "python",
   "name": "python3"
  },
  "language_info": {
   "codemirror_mode": {
    "name": "ipython",
    "version": 3
   },
   "file_extension": ".py",
   "mimetype": "text/x-python",
   "name": "python",
   "nbconvert_exporter": "python",
   "pygments_lexer": "ipython3",
   "version": "3.8.5"
  }
 },
 "nbformat": 4,
 "nbformat_minor": 4
}
